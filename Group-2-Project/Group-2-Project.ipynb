{
 "cells": [
  {
   "cell_type": "code",
   "execution_count": 2,
   "metadata": {},
   "outputs": [],
   "source": [
    "import pandas as pd\n",
    "import numpy as np\n",
    "import seaborn as sns\n",
    "sns.set_theme(style='white')\n",
    "from matplotlib import pyplot as plt"
   ]
  },
  {
   "cell_type": "markdown",
   "metadata": {},
   "source": [
    "### Singapore Population Prediction and Enhancement"
   ]
  },
  {
   "cell_type": "code",
   "execution_count": 3,
   "metadata": {},
   "outputs": [
    {
     "data": {
      "text/html": [
       "<div>\n",
       "<style scoped>\n",
       "    .dataframe tbody tr th:only-of-type {\n",
       "        vertical-align: middle;\n",
       "    }\n",
       "\n",
       "    .dataframe tbody tr th {\n",
       "        vertical-align: top;\n",
       "    }\n",
       "\n",
       "    .dataframe thead th {\n",
       "        text-align: right;\n",
       "    }\n",
       "</style>\n",
       "<table border=\"1\" class=\"dataframe\">\n",
       "  <thead>\n",
       "    <tr style=\"text-align: right;\">\n",
       "      <th></th>\n",
       "      <th>Year</th>\n",
       "      <th>TR</th>\n",
       "      <th>TMR</th>\n",
       "      <th>TFR</th>\n",
       "      <th>SR</th>\n",
       "      <th>MAR</th>\n",
       "    </tr>\n",
       "  </thead>\n",
       "  <tbody>\n",
       "    <tr>\n",
       "      <th>0</th>\n",
       "      <td>2022</td>\n",
       "      <td>4073239</td>\n",
       "      <td>1990212</td>\n",
       "      <td>2083027</td>\n",
       "      <td>955</td>\n",
       "      <td>42.1</td>\n",
       "    </tr>\n",
       "    <tr>\n",
       "      <th>1</th>\n",
       "      <td>2021</td>\n",
       "      <td>3986842</td>\n",
       "      <td>1953114</td>\n",
       "      <td>2033728</td>\n",
       "      <td>960</td>\n",
       "      <td>41.8</td>\n",
       "    </tr>\n",
       "    <tr>\n",
       "      <th>2</th>\n",
       "      <td>2020</td>\n",
       "      <td>4044210</td>\n",
       "      <td>1977556</td>\n",
       "      <td>2066654</td>\n",
       "      <td>957</td>\n",
       "      <td>41.5</td>\n",
       "    </tr>\n",
       "    <tr>\n",
       "      <th>3</th>\n",
       "      <td>2019</td>\n",
       "      <td>4026209</td>\n",
       "      <td>1969382</td>\n",
       "      <td>2056827</td>\n",
       "      <td>957</td>\n",
       "      <td>41.1</td>\n",
       "    </tr>\n",
       "    <tr>\n",
       "      <th>4</th>\n",
       "      <td>2018</td>\n",
       "      <td>3994283</td>\n",
       "      <td>1955838</td>\n",
       "      <td>2038445</td>\n",
       "      <td>959</td>\n",
       "      <td>40.8</td>\n",
       "    </tr>\n",
       "    <tr>\n",
       "      <th>...</th>\n",
       "      <td>...</td>\n",
       "      <td>...</td>\n",
       "      <td>...</td>\n",
       "      <td>...</td>\n",
       "      <td>...</td>\n",
       "      <td>...</td>\n",
       "    </tr>\n",
       "    <tr>\n",
       "      <th>61</th>\n",
       "      <td>1961</td>\n",
       "      <td>1702400</td>\n",
       "      <td>886500</td>\n",
       "      <td>815900</td>\n",
       "      <td>1087</td>\n",
       "      <td>17.9</td>\n",
       "    </tr>\n",
       "    <tr>\n",
       "      <th>62</th>\n",
       "      <td>1960</td>\n",
       "      <td>1646400</td>\n",
       "      <td>859600</td>\n",
       "      <td>786800</td>\n",
       "      <td>1093</td>\n",
       "      <td>18.0</td>\n",
       "    </tr>\n",
       "    <tr>\n",
       "      <th>63</th>\n",
       "      <td>1959</td>\n",
       "      <td>1587200</td>\n",
       "      <td>830800</td>\n",
       "      <td>756400</td>\n",
       "      <td>1098</td>\n",
       "      <td>18.3</td>\n",
       "    </tr>\n",
       "    <tr>\n",
       "      <th>64</th>\n",
       "      <td>1958</td>\n",
       "      <td>1518800</td>\n",
       "      <td>797600</td>\n",
       "      <td>721200</td>\n",
       "      <td>1106</td>\n",
       "      <td>18.5</td>\n",
       "    </tr>\n",
       "    <tr>\n",
       "      <th>65</th>\n",
       "      <td>1957</td>\n",
       "      <td>1445929</td>\n",
       "      <td>762760</td>\n",
       "      <td>683169</td>\n",
       "      <td>1117</td>\n",
       "      <td>18.8</td>\n",
       "    </tr>\n",
       "  </tbody>\n",
       "</table>\n",
       "<p>66 rows × 6 columns</p>\n",
       "</div>"
      ],
      "text/plain": [
       "    Year       TR      TMR      TFR    SR   MAR\n",
       "0   2022  4073239  1990212  2083027   955  42.1\n",
       "1   2021  3986842  1953114  2033728   960  41.8\n",
       "2   2020  4044210  1977556  2066654   957  41.5\n",
       "3   2019  4026209  1969382  2056827   957  41.1\n",
       "4   2018  3994283  1955838  2038445   959  40.8\n",
       "..   ...      ...      ...      ...   ...   ...\n",
       "61  1961  1702400   886500   815900  1087  17.9\n",
       "62  1960  1646400   859600   786800  1093  18.0\n",
       "63  1959  1587200   830800   756400  1098  18.3\n",
       "64  1958  1518800   797600   721200  1106  18.5\n",
       "65  1957  1445929   762760   683169  1117  18.8\n",
       "\n",
       "[66 rows x 6 columns]"
      ]
     },
     "execution_count": 3,
     "metadata": {},
     "output_type": "execute_result"
    }
   ],
   "source": [
    "SgData = pd.read_csv('SgData.csv')\n",
    "SgData"
   ]
  },
  {
   "cell_type": "markdown",
   "metadata": {},
   "source": [
    "TR = Total Residents\n",
    "<br>\n",
    "TMR = Total Male Residents\n",
    "<br>\n",
    "TFR = Total Female Residents\n",
    "<br>\n",
    "SR = Sex Ratio\n",
    "<br>\n",
    "MAR = Median Age of Residents\n",
    "<br>"
   ]
  },
  {
   "cell_type": "markdown",
   "metadata": {},
   "source": [
    "a. Year-Population Plot"
   ]
  },
  {
   "cell_type": "code",
   "execution_count": 4,
   "metadata": {},
   "outputs": [
    {
     "data": {
      "image/png": "[encoded data removed]",
      "text/plain": [
       "<Figure size 432x288 with 1 Axes>"
      ]
     },
     "metadata": {
      "needs_background": "light"
     },
     "output_type": "display_data"
    }
   ],
   "source": [
    "sns.scatterplot(x=SgData['Year'], y=SgData['TR'])\n",
    "plt.title('Singapore Population 1957-2022')\n",
    "plt.ylabel('Total Resident')\n",
    "plt.xlabel('Year')\n",
    "plt.show()"
   ]
  },
  {
   "cell_type": "markdown",
   "metadata": {},
   "source": [
    "b. Model Fitting"
   ]
  },
  {
   "cell_type": "code",
   "execution_count": 5,
   "metadata": {},
   "outputs": [],
   "source": [
    "sg_train = SgData.loc[SgData['Year']<=2013, :]\n",
    "sg_test = SgData.loc[SgData['Year']>2013, :]"
   ]
  },
  {
   "cell_type": "code",
   "execution_count": 6,
   "metadata": {},
   "outputs": [],
   "source": [
    "from sklearn.linear_model import LinearRegression"
   ]
  },
  {
   "cell_type": "code",
   "execution_count": 7,
   "metadata": {},
   "outputs": [],
   "source": [
    "x1 = sg_train['Year']\n",
    "y1 = sg_train['TR']\n",
    "x2 = sg_test['Year']\n",
    "y2 = sg_test['TR']\n",
    "\n",
    "x1 = np.array(x1).reshape(-1, 1)\n",
    "x2 = np.array(x2).reshape(-1, 1)\n",
    "y1 = np.array(y1).reshape(-1, 1)\n",
    "y2 = np.array(y2).reshape(-1, 1)"
   ]
  },
  {
   "cell_type": "code",
   "execution_count": 8,
   "metadata": {},
   "outputs": [],
   "source": [
    "rgs = LinearRegression()\n",
    "rgs.fit(x1, y1)\n",
    "y1_pred = rgs.predict(x1)"
   ]
  },
  {
   "cell_type": "markdown",
   "metadata": {},
   "source": [
    "c. i. Best-Fit Line"
   ]
  },
  {
   "cell_type": "code",
   "execution_count": 9,
   "metadata": {},
   "outputs": [
    {
     "name": "stdout",
     "output_type": "stream",
     "text": [
      "Slope:  [[40975.96590614]]\n",
      "y-Intercept:  [-78707770.39387262]\n"
     ]
    }
   ],
   "source": [
    "print('Slope: ', rgs.coef_)\n",
    "print('y-Intercept: ', rgs.intercept_)"
   ]
  },
  {
   "cell_type": "code",
   "execution_count": 10,
   "metadata": {},
   "outputs": [
    {
     "data": {
      "image/png": "[encoded data removed]",
      "text/plain": [
       "<Figure size 432x288 with 1 Axes>"
      ]
     },
     "metadata": {
      "needs_background": "light"
     },
     "output_type": "display_data"
    }
   ],
   "source": [
    "sns.scatterplot(x=SgData['Year'], y=SgData['TR'])\n",
    "temp = SgData['Year'].map(lambda x: rgs.coef_*x+rgs.intercept_)\n",
    "plt.plot(SgData['Year'], temp, color='r')\n",
    "plt.title('Singapore Population 1957-2022')\n",
    "plt.ylabel('Total Resident')\n",
    "plt.xlabel('Year')\n",
    "plt.show()"
   ]
  },
  {
   "cell_type": "markdown",
   "metadata": {},
   "source": [
    "c. ii. R^2 Coefficient"
   ]
  },
  {
   "cell_type": "code",
   "execution_count": 11,
   "metadata": {},
   "outputs": [],
   "source": [
    "from sklearn.metrics import mean_squared_error, r2_score"
   ]
  },
  {
   "cell_type": "code",
   "execution_count": 12,
   "metadata": {},
   "outputs": [
    {
     "name": "stdout",
     "output_type": "stream",
     "text": [
      "R2:  0.9857883020995728\n"
     ]
    }
   ],
   "source": [
    "r2 = r2_score(y1, y1_pred)\n",
    "print('R2: ', r2)"
   ]
  },
  {
   "cell_type": "markdown",
   "metadata": {},
   "source": [
    "c. iii. Training MSE"
   ]
  },
  {
   "cell_type": "code",
   "execution_count": 13,
   "metadata": {},
   "outputs": [
    {
     "name": "stdout",
     "output_type": "stream",
     "text": [
      "Train MSE:  6551722294.557682\n"
     ]
    }
   ],
   "source": [
    "mse = mean_squared_error(y1, y1_pred)\n",
    "print('Train MSE: ', mse)"
   ]
  },
  {
   "cell_type": "markdown",
   "metadata": {},
   "source": [
    "c. iv. Testing"
   ]
  },
  {
   "cell_type": "code",
   "execution_count": 14,
   "metadata": {},
   "outputs": [
    {
     "name": "stdout",
     "output_type": "stream",
     "text": [
      "[[2.02200000e+03 4.14563267e+06]\n",
      " [2.02100000e+03 4.10465670e+06]\n",
      " [2.02000000e+03 4.06368074e+06]\n",
      " [2.01900000e+03 4.02270477e+06]\n",
      " [2.01800000e+03 3.98172880e+06]\n",
      " [2.01700000e+03 3.94075284e+06]\n",
      " [2.01600000e+03 3.89977687e+06]\n",
      " [2.01500000e+03 3.85880091e+06]\n",
      " [2.01400000e+03 3.81782494e+06]]\n"
     ]
    }
   ],
   "source": [
    "y2_pred = rgs.predict(x2)\n",
    "print(np.column_stack((x2, y2_pred)))"
   ]
  },
  {
   "cell_type": "markdown",
   "metadata": {},
   "source": [
    "c. v. Testing MSE"
   ]
  },
  {
   "cell_type": "code",
   "execution_count": 15,
   "metadata": {},
   "outputs": [
    {
     "name": "stdout",
     "output_type": "stream",
     "text": [
      "Testing MSE:  2907187388.7105937\n"
     ]
    }
   ],
   "source": [
    "mse = mean_squared_error(y2, y2_pred)\n",
    "print('Testing MSE: ', mse)"
   ]
  },
  {
   "cell_type": "markdown",
   "metadata": {},
   "source": [
    "d. Prediction"
   ]
  },
  {
   "cell_type": "code",
   "execution_count": 16,
   "metadata": {},
   "outputs": [],
   "source": [
    "X = []\n",
    "for i in range(2030, 2051):\n",
    "    X.append(i)\n",
    "X = np.array(X).reshape(-1, 1)"
   ]
  },
  {
   "cell_type": "code",
   "execution_count": 17,
   "metadata": {},
   "outputs": [
    {
     "data": {
      "text/html": [
       "<div>\n",
       "<style scoped>\n",
       "    .dataframe tbody tr th:only-of-type {\n",
       "        vertical-align: middle;\n",
       "    }\n",
       "\n",
       "    .dataframe tbody tr th {\n",
       "        vertical-align: top;\n",
       "    }\n",
       "\n",
       "    .dataframe thead th {\n",
       "        text-align: right;\n",
       "    }\n",
       "</style>\n",
       "<table border=\"1\" class=\"dataframe\">\n",
       "  <thead>\n",
       "    <tr style=\"text-align: right;\">\n",
       "      <th></th>\n",
       "      <th>Year</th>\n",
       "      <th>Population</th>\n",
       "    </tr>\n",
       "  </thead>\n",
       "  <tbody>\n",
       "    <tr>\n",
       "      <th>0</th>\n",
       "      <td>2030.0</td>\n",
       "      <td>4.473440e+06</td>\n",
       "    </tr>\n",
       "    <tr>\n",
       "      <th>1</th>\n",
       "      <td>2031.0</td>\n",
       "      <td>4.514416e+06</td>\n",
       "    </tr>\n",
       "    <tr>\n",
       "      <th>2</th>\n",
       "      <td>2032.0</td>\n",
       "      <td>4.555392e+06</td>\n",
       "    </tr>\n",
       "    <tr>\n",
       "      <th>3</th>\n",
       "      <td>2033.0</td>\n",
       "      <td>4.596368e+06</td>\n",
       "    </tr>\n",
       "    <tr>\n",
       "      <th>4</th>\n",
       "      <td>2034.0</td>\n",
       "      <td>4.637344e+06</td>\n",
       "    </tr>\n",
       "    <tr>\n",
       "      <th>5</th>\n",
       "      <td>2035.0</td>\n",
       "      <td>4.678320e+06</td>\n",
       "    </tr>\n",
       "    <tr>\n",
       "      <th>6</th>\n",
       "      <td>2036.0</td>\n",
       "      <td>4.719296e+06</td>\n",
       "    </tr>\n",
       "    <tr>\n",
       "      <th>7</th>\n",
       "      <td>2037.0</td>\n",
       "      <td>4.760272e+06</td>\n",
       "    </tr>\n",
       "    <tr>\n",
       "      <th>8</th>\n",
       "      <td>2038.0</td>\n",
       "      <td>4.801248e+06</td>\n",
       "    </tr>\n",
       "    <tr>\n",
       "      <th>9</th>\n",
       "      <td>2039.0</td>\n",
       "      <td>4.842224e+06</td>\n",
       "    </tr>\n",
       "    <tr>\n",
       "      <th>10</th>\n",
       "      <td>2040.0</td>\n",
       "      <td>4.883200e+06</td>\n",
       "    </tr>\n",
       "    <tr>\n",
       "      <th>11</th>\n",
       "      <td>2041.0</td>\n",
       "      <td>4.924176e+06</td>\n",
       "    </tr>\n",
       "    <tr>\n",
       "      <th>12</th>\n",
       "      <td>2042.0</td>\n",
       "      <td>4.965152e+06</td>\n",
       "    </tr>\n",
       "    <tr>\n",
       "      <th>13</th>\n",
       "      <td>2043.0</td>\n",
       "      <td>5.006128e+06</td>\n",
       "    </tr>\n",
       "    <tr>\n",
       "      <th>14</th>\n",
       "      <td>2044.0</td>\n",
       "      <td>5.047104e+06</td>\n",
       "    </tr>\n",
       "    <tr>\n",
       "      <th>15</th>\n",
       "      <td>2045.0</td>\n",
       "      <td>5.088080e+06</td>\n",
       "    </tr>\n",
       "    <tr>\n",
       "      <th>16</th>\n",
       "      <td>2046.0</td>\n",
       "      <td>5.129056e+06</td>\n",
       "    </tr>\n",
       "    <tr>\n",
       "      <th>17</th>\n",
       "      <td>2047.0</td>\n",
       "      <td>5.170032e+06</td>\n",
       "    </tr>\n",
       "    <tr>\n",
       "      <th>18</th>\n",
       "      <td>2048.0</td>\n",
       "      <td>5.211008e+06</td>\n",
       "    </tr>\n",
       "    <tr>\n",
       "      <th>19</th>\n",
       "      <td>2049.0</td>\n",
       "      <td>5.251984e+06</td>\n",
       "    </tr>\n",
       "    <tr>\n",
       "      <th>20</th>\n",
       "      <td>2050.0</td>\n",
       "      <td>5.292960e+06</td>\n",
       "    </tr>\n",
       "  </tbody>\n",
       "</table>\n",
       "</div>"
      ],
      "text/plain": [
       "      Year    Population\n",
       "0   2030.0  4.473440e+06\n",
       "1   2031.0  4.514416e+06\n",
       "2   2032.0  4.555392e+06\n",
       "3   2033.0  4.596368e+06\n",
       "4   2034.0  4.637344e+06\n",
       "5   2035.0  4.678320e+06\n",
       "6   2036.0  4.719296e+06\n",
       "7   2037.0  4.760272e+06\n",
       "8   2038.0  4.801248e+06\n",
       "9   2039.0  4.842224e+06\n",
       "10  2040.0  4.883200e+06\n",
       "11  2041.0  4.924176e+06\n",
       "12  2042.0  4.965152e+06\n",
       "13  2043.0  5.006128e+06\n",
       "14  2044.0  5.047104e+06\n",
       "15  2045.0  5.088080e+06\n",
       "16  2046.0  5.129056e+06\n",
       "17  2047.0  5.170032e+06\n",
       "18  2048.0  5.211008e+06\n",
       "19  2049.0  5.251984e+06\n",
       "20  2050.0  5.292960e+06"
      ]
     },
     "execution_count": 17,
     "metadata": {},
     "output_type": "execute_result"
    }
   ],
   "source": [
    "Y = rgs.predict(X)\n",
    "rs = np.column_stack((X, Y))\n",
    "rs = pd.DataFrame(rs)\n",
    "rs.columns = ['Year', 'Population']\n",
    "rs"
   ]
  },
  {
   "cell_type": "markdown",
   "metadata": {},
   "source": [
    "This result is partly reasonable. It is because, in natural population growth principles, there should be competition between samples and the growth rate might naturally decrease to 0. However, in the linear regression model, the growth rate is a constant value. Perhaps it fits the situation in a short term, but it might not precisely reflect the population growth tendency in long term (e.g., >100 years).\n",
    "<br>\n",
    "\n",
    "e. In the middle of the logistic pattern.\n",
    "<br>\n"
   ]
  },
  {
   "cell_type": "markdown",
   "metadata": {},
   "source": [
    "f. Enhancement\n",
    "<br>\n",
    "In this case, we apply a multivariate linear regression. We selected some attributes from the Singapore official statistics data to increase the dimensions of the feature set. Before the formal multivariate linear regression, we conducted a correlation analysis to select the most influencing ones from these additional attributes.\n",
    "<br>\n",
    "To prevent the imbalanced influences of data from different ranges, a normalization phase should be implemented."
   ]
  },
  {
   "cell_type": "code",
   "execution_count": 18,
   "metadata": {},
   "outputs": [],
   "source": [
    "from sklearn.preprocessing import MinMaxScaler"
   ]
  },
  {
   "cell_type": "code",
   "execution_count": 19,
   "metadata": {},
   "outputs": [
    {
     "data": {
      "text/html": [
       "<div>\n",
       "<style scoped>\n",
       "    .dataframe tbody tr th:only-of-type {\n",
       "        vertical-align: middle;\n",
       "    }\n",
       "\n",
       "    .dataframe tbody tr th {\n",
       "        vertical-align: top;\n",
       "    }\n",
       "\n",
       "    .dataframe thead th {\n",
       "        text-align: right;\n",
       "    }\n",
       "</style>\n",
       "<table border=\"1\" class=\"dataframe\">\n",
       "  <thead>\n",
       "    <tr style=\"text-align: right;\">\n",
       "      <th></th>\n",
       "      <th>Year</th>\n",
       "      <th>TR</th>\n",
       "      <th>TMR</th>\n",
       "      <th>TFR</th>\n",
       "      <th>SR</th>\n",
       "      <th>MAR</th>\n",
       "    </tr>\n",
       "  </thead>\n",
       "  <tbody>\n",
       "    <tr>\n",
       "      <th>0</th>\n",
       "      <td>1.000000</td>\n",
       "      <td>1.000000</td>\n",
       "      <td>1.000000</td>\n",
       "      <td>1.000000</td>\n",
       "      <td>0.000000</td>\n",
       "      <td>1.000000</td>\n",
       "    </tr>\n",
       "    <tr>\n",
       "      <th>1</th>\n",
       "      <td>0.984615</td>\n",
       "      <td>0.967116</td>\n",
       "      <td>0.969776</td>\n",
       "      <td>0.964783</td>\n",
       "      <td>0.030864</td>\n",
       "      <td>0.987705</td>\n",
       "    </tr>\n",
       "    <tr>\n",
       "      <th>2</th>\n",
       "      <td>0.969231</td>\n",
       "      <td>0.988951</td>\n",
       "      <td>0.989689</td>\n",
       "      <td>0.988304</td>\n",
       "      <td>0.012346</td>\n",
       "      <td>0.975410</td>\n",
       "    </tr>\n",
       "    <tr>\n",
       "      <th>3</th>\n",
       "      <td>0.953846</td>\n",
       "      <td>0.982100</td>\n",
       "      <td>0.983030</td>\n",
       "      <td>0.981284</td>\n",
       "      <td>0.012346</td>\n",
       "      <td>0.959016</td>\n",
       "    </tr>\n",
       "    <tr>\n",
       "      <th>4</th>\n",
       "      <td>0.938462</td>\n",
       "      <td>0.969948</td>\n",
       "      <td>0.971996</td>\n",
       "      <td>0.968152</td>\n",
       "      <td>0.024691</td>\n",
       "      <td>0.946721</td>\n",
       "    </tr>\n",
       "    <tr>\n",
       "      <th>...</th>\n",
       "      <td>...</td>\n",
       "      <td>...</td>\n",
       "      <td>...</td>\n",
       "      <td>...</td>\n",
       "      <td>...</td>\n",
       "      <td>...</td>\n",
       "    </tr>\n",
       "    <tr>\n",
       "      <th>61</th>\n",
       "      <td>0.061538</td>\n",
       "      <td>0.097617</td>\n",
       "      <td>0.100810</td>\n",
       "      <td>0.094817</td>\n",
       "      <td>0.814815</td>\n",
       "      <td>0.008197</td>\n",
       "    </tr>\n",
       "    <tr>\n",
       "      <th>62</th>\n",
       "      <td>0.046154</td>\n",
       "      <td>0.076303</td>\n",
       "      <td>0.078895</td>\n",
       "      <td>0.074030</td>\n",
       "      <td>0.851852</td>\n",
       "      <td>0.012295</td>\n",
       "    </tr>\n",
       "    <tr>\n",
       "      <th>63</th>\n",
       "      <td>0.030769</td>\n",
       "      <td>0.053770</td>\n",
       "      <td>0.055432</td>\n",
       "      <td>0.052313</td>\n",
       "      <td>0.882716</td>\n",
       "      <td>0.024590</td>\n",
       "    </tr>\n",
       "    <tr>\n",
       "      <th>64</th>\n",
       "      <td>0.015385</td>\n",
       "      <td>0.027736</td>\n",
       "      <td>0.028384</td>\n",
       "      <td>0.027168</td>\n",
       "      <td>0.932099</td>\n",
       "      <td>0.032787</td>\n",
       "    </tr>\n",
       "    <tr>\n",
       "      <th>65</th>\n",
       "      <td>0.000000</td>\n",
       "      <td>0.000000</td>\n",
       "      <td>0.000000</td>\n",
       "      <td>0.000000</td>\n",
       "      <td>1.000000</td>\n",
       "      <td>0.045082</td>\n",
       "    </tr>\n",
       "  </tbody>\n",
       "</table>\n",
       "<p>66 rows × 6 columns</p>\n",
       "</div>"
      ],
      "text/plain": [
       "        Year        TR       TMR       TFR        SR       MAR\n",
       "0   1.000000  1.000000  1.000000  1.000000  0.000000  1.000000\n",
       "1   0.984615  0.967116  0.969776  0.964783  0.030864  0.987705\n",
       "2   0.969231  0.988951  0.989689  0.988304  0.012346  0.975410\n",
       "3   0.953846  0.982100  0.983030  0.981284  0.012346  0.959016\n",
       "4   0.938462  0.969948  0.971996  0.968152  0.024691  0.946721\n",
       "..       ...       ...       ...       ...       ...       ...\n",
       "61  0.061538  0.097617  0.100810  0.094817  0.814815  0.008197\n",
       "62  0.046154  0.076303  0.078895  0.074030  0.851852  0.012295\n",
       "63  0.030769  0.053770  0.055432  0.052313  0.882716  0.024590\n",
       "64  0.015385  0.027736  0.028384  0.027168  0.932099  0.032787\n",
       "65  0.000000  0.000000  0.000000  0.000000  1.000000  0.045082\n",
       "\n",
       "[66 rows x 6 columns]"
      ]
     },
     "execution_count": 19,
     "metadata": {},
     "output_type": "execute_result"
    }
   ],
   "source": [
    "sc = MinMaxScaler()\n",
    "sc = sc.fit(SgData)\n",
    "tmp = sc.transform(SgData)\n",
    "tmp = pd.DataFrame(tmp)\n",
    "tmp.columns = SgData.columns\n",
    "tmp"
   ]
  },
  {
   "cell_type": "code",
   "execution_count": 20,
   "metadata": {},
   "outputs": [
    {
     "name": "stdout",
     "output_type": "stream",
     "text": [
      "   level_0 level_1  correlation\n",
      "0     Year    Year     1.000000\n",
      "1     Year      TR     0.995049\n",
      "2     Year     TMR     0.995224\n",
      "3     Year     TFR     0.994672\n",
      "4     Year      SR    -0.986310\n",
      "5     Year     MAR     0.993768\n",
      "6       TR    Year     0.995049\n",
      "7       TR      TR     1.000000\n",
      "8       TR     TMR     0.999865\n",
      "9       TR     TFR     0.999895\n",
      "10      TR      SR    -0.985545\n",
      "11      TR     MAR     0.986491\n",
      "12     TMR    Year     0.995224\n",
      "13     TMR      TR     0.999865\n",
      "14     TMR     TMR     1.000000\n",
      "15     TMR     TFR     0.999521\n",
      "16     TMR      SR    -0.985694\n",
      "17     TMR     MAR     0.986876\n",
      "18     TFR    Year     0.994672\n",
      "19     TFR      TR     0.999895\n",
      "20     TFR     TMR     0.999521\n",
      "21     TFR     TFR     1.000000\n",
      "22     TFR      SR    -0.985193\n",
      "23     TFR     MAR     0.985931\n",
      "24      SR    Year    -0.986310\n",
      "25      SR      TR    -0.985545\n",
      "26      SR     TMR    -0.985694\n",
      "27      SR     TFR    -0.985193\n",
      "28      SR      SR     1.000000\n",
      "29      SR     MAR    -0.963656\n",
      "30     MAR    Year     0.993768\n",
      "31     MAR      TR     0.986491\n",
      "32     MAR     TMR     0.986876\n",
      "33     MAR     TFR     0.985931\n",
      "34     MAR      SR    -0.963656\n",
      "35     MAR     MAR     1.000000\n"
     ]
    },
    {
     "data": {
      "text/plain": [
       "<seaborn.axisgrid.FacetGrid at 0x12b498520>"
      ]
     },
     "execution_count": 20,
     "metadata": {},
     "output_type": "execute_result"
    },
    {
     "data": {
      "image/png": "[encoded data removed]",
      "text/plain": [
       "<Figure size 424.675x360 with 1 Axes>"
      ]
     },
     "metadata": {},
     "output_type": "display_data"
    }
   ],
   "source": [
    "corr_mat = tmp.corr().stack().reset_index(name='correlation')\n",
    "print(corr_mat)\n",
    "sns.set_theme(style='whitegrid')\n",
    "sns.relplot(data=corr_mat,\n",
    "            x='level_0',\n",
    "            y='level_1',\n",
    "            palette=\"vlag\", \n",
    "            hue_norm=(-1, 1),\n",
    "            hue='correlation',\n",
    "            kind='line'\n",
    "            )"
   ]
  },
  {
   "cell_type": "markdown",
   "metadata": {},
   "source": [
    "TR = Total Residents\n",
    "<br>\n",
    "TMR = Total Male Residents\n",
    "<br>\n",
    "TFR = Total Female Residents\n",
    "<br>\n",
    "SR = Sex Ratio\n",
    "<br>\n",
    "MAR = Median Age of Residents\n",
    "<br>\n",
    "\n",
    "From the correlation plot above, we can conclude that TMR and SR have the greatest positive influence on TR because the correlation coefficients between these attributes and TR are equal to 1. Therefore, we can add these two attributes to our X matrix to improve the accuracy of the prediction."
   ]
  },
  {
   "cell_type": "code",
   "execution_count": 21,
   "metadata": {},
   "outputs": [
    {
     "data": {
      "text/html": [
       "<div>\n",
       "<style scoped>\n",
       "    .dataframe tbody tr th:only-of-type {\n",
       "        vertical-align: middle;\n",
       "    }\n",
       "\n",
       "    .dataframe tbody tr th {\n",
       "        vertical-align: top;\n",
       "    }\n",
       "\n",
       "    .dataframe thead th {\n",
       "        text-align: right;\n",
       "    }\n",
       "</style>\n",
       "<table border=\"1\" class=\"dataframe\">\n",
       "  <thead>\n",
       "    <tr style=\"text-align: right;\">\n",
       "      <th></th>\n",
       "      <th>Year</th>\n",
       "      <th>TR</th>\n",
       "      <th>TMR</th>\n",
       "      <th>SR</th>\n",
       "    </tr>\n",
       "  </thead>\n",
       "  <tbody>\n",
       "    <tr>\n",
       "      <th>0</th>\n",
       "      <td>2022</td>\n",
       "      <td>4073239</td>\n",
       "      <td>1990212</td>\n",
       "      <td>955</td>\n",
       "    </tr>\n",
       "    <tr>\n",
       "      <th>1</th>\n",
       "      <td>2021</td>\n",
       "      <td>3986842</td>\n",
       "      <td>1953114</td>\n",
       "      <td>960</td>\n",
       "    </tr>\n",
       "    <tr>\n",
       "      <th>2</th>\n",
       "      <td>2020</td>\n",
       "      <td>4044210</td>\n",
       "      <td>1977556</td>\n",
       "      <td>957</td>\n",
       "    </tr>\n",
       "    <tr>\n",
       "      <th>3</th>\n",
       "      <td>2019</td>\n",
       "      <td>4026209</td>\n",
       "      <td>1969382</td>\n",
       "      <td>957</td>\n",
       "    </tr>\n",
       "    <tr>\n",
       "      <th>4</th>\n",
       "      <td>2018</td>\n",
       "      <td>3994283</td>\n",
       "      <td>1955838</td>\n",
       "      <td>959</td>\n",
       "    </tr>\n",
       "    <tr>\n",
       "      <th>...</th>\n",
       "      <td>...</td>\n",
       "      <td>...</td>\n",
       "      <td>...</td>\n",
       "      <td>...</td>\n",
       "    </tr>\n",
       "    <tr>\n",
       "      <th>61</th>\n",
       "      <td>1961</td>\n",
       "      <td>1702400</td>\n",
       "      <td>886500</td>\n",
       "      <td>1087</td>\n",
       "    </tr>\n",
       "    <tr>\n",
       "      <th>62</th>\n",
       "      <td>1960</td>\n",
       "      <td>1646400</td>\n",
       "      <td>859600</td>\n",
       "      <td>1093</td>\n",
       "    </tr>\n",
       "    <tr>\n",
       "      <th>63</th>\n",
       "      <td>1959</td>\n",
       "      <td>1587200</td>\n",
       "      <td>830800</td>\n",
       "      <td>1098</td>\n",
       "    </tr>\n",
       "    <tr>\n",
       "      <th>64</th>\n",
       "      <td>1958</td>\n",
       "      <td>1518800</td>\n",
       "      <td>797600</td>\n",
       "      <td>1106</td>\n",
       "    </tr>\n",
       "    <tr>\n",
       "      <th>65</th>\n",
       "      <td>1957</td>\n",
       "      <td>1445929</td>\n",
       "      <td>762760</td>\n",
       "      <td>1117</td>\n",
       "    </tr>\n",
       "  </tbody>\n",
       "</table>\n",
       "<p>66 rows × 4 columns</p>\n",
       "</div>"
      ],
      "text/plain": [
       "    Year       TR      TMR    SR\n",
       "0   2022  4073239  1990212   955\n",
       "1   2021  3986842  1953114   960\n",
       "2   2020  4044210  1977556   957\n",
       "3   2019  4026209  1969382   957\n",
       "4   2018  3994283  1955838   959\n",
       "..   ...      ...      ...   ...\n",
       "61  1961  1702400   886500  1087\n",
       "62  1960  1646400   859600  1093\n",
       "63  1959  1587200   830800  1098\n",
       "64  1958  1518800   797600  1106\n",
       "65  1957  1445929   762760  1117\n",
       "\n",
       "[66 rows x 4 columns]"
      ]
     },
     "execution_count": 21,
     "metadata": {},
     "output_type": "execute_result"
    }
   ],
   "source": [
    "df = SgData[['Year', 'TR', 'TMR', 'SR']]\n",
    "df"
   ]
  },
  {
   "cell_type": "code",
   "execution_count": 22,
   "metadata": {},
   "outputs": [],
   "source": [
    "sc = MinMaxScaler()\n",
    "sc = sc.fit(df)\n",
    "train = df.loc[df['Year']<=2013, :]\n",
    "test = df.loc[df['Year']>2013, :]\n",
    "tmp_1 = sc.transform(train)\n",
    "tmp_2 = sc.transform(test)\n",
    "tmp_1 = pd.DataFrame(tmp_1)\n",
    "tmp_2 = pd.DataFrame(tmp_2)\n",
    "tmp_1.columns = df.columns\n",
    "tmp_2.columns = df.columns"
   ]
  },
  {
   "cell_type": "code",
   "execution_count": 23,
   "metadata": {},
   "outputs": [],
   "source": [
    "# training\n",
    "X = tmp_1[['Year', 'TMR', 'SR']]\n",
    "Y = tmp_1['TR']\n",
    "\n",
    "rgs = LinearRegression()\n",
    "rgs.fit(X, Y)\n",
    "Y_pred = rgs.predict(X)"
   ]
  },
  {
   "cell_type": "code",
   "execution_count": 24,
   "metadata": {},
   "outputs": [
    {
     "data": {
      "text/html": [
       "<div>\n",
       "<style scoped>\n",
       "    .dataframe tbody tr th:only-of-type {\n",
       "        vertical-align: middle;\n",
       "    }\n",
       "\n",
       "    .dataframe tbody tr th {\n",
       "        vertical-align: top;\n",
       "    }\n",
       "\n",
       "    .dataframe thead th {\n",
       "        text-align: right;\n",
       "    }\n",
       "</style>\n",
       "<table border=\"1\" class=\"dataframe\">\n",
       "  <thead>\n",
       "    <tr style=\"text-align: right;\">\n",
       "      <th></th>\n",
       "      <th>Year</th>\n",
       "      <th>TR</th>\n",
       "      <th>TMR</th>\n",
       "      <th>SR</th>\n",
       "    </tr>\n",
       "  </thead>\n",
       "  <tbody>\n",
       "    <tr>\n",
       "      <th>0</th>\n",
       "      <td>2013.0</td>\n",
       "      <td>3.824059e+06</td>\n",
       "      <td>1891504.0</td>\n",
       "      <td>968.0</td>\n",
       "    </tr>\n",
       "    <tr>\n",
       "      <th>1</th>\n",
       "      <td>2012.0</td>\n",
       "      <td>3.800450e+06</td>\n",
       "      <td>1880046.0</td>\n",
       "      <td>970.0</td>\n",
       "    </tr>\n",
       "    <tr>\n",
       "      <th>2</th>\n",
       "      <td>2011.0</td>\n",
       "      <td>3.775927e+06</td>\n",
       "      <td>1868170.0</td>\n",
       "      <td>972.0</td>\n",
       "    </tr>\n",
       "    <tr>\n",
       "      <th>3</th>\n",
       "      <td>2010.0</td>\n",
       "      <td>3.761988e+06</td>\n",
       "      <td>1861133.0</td>\n",
       "      <td>974.0</td>\n",
       "    </tr>\n",
       "    <tr>\n",
       "      <th>4</th>\n",
       "      <td>2009.0</td>\n",
       "      <td>3.727567e+06</td>\n",
       "      <td>1844732.0</td>\n",
       "      <td>976.0</td>\n",
       "    </tr>\n",
       "    <tr>\n",
       "      <th>5</th>\n",
       "      <td>2008.0</td>\n",
       "      <td>3.637403e+06</td>\n",
       "      <td>1802992.0</td>\n",
       "      <td>980.0</td>\n",
       "    </tr>\n",
       "    <tr>\n",
       "      <th>6</th>\n",
       "      <td>2007.0</td>\n",
       "      <td>3.578670e+06</td>\n",
       "      <td>1775477.0</td>\n",
       "      <td>982.0</td>\n",
       "    </tr>\n",
       "    <tr>\n",
       "      <th>7</th>\n",
       "      <td>2006.0</td>\n",
       "      <td>3.520707e+06</td>\n",
       "      <td>1748242.0</td>\n",
       "      <td>983.0</td>\n",
       "    </tr>\n",
       "    <tr>\n",
       "      <th>8</th>\n",
       "      <td>2005.0</td>\n",
       "      <td>3.462875e+06</td>\n",
       "      <td>1721139.0</td>\n",
       "      <td>985.0</td>\n",
       "    </tr>\n",
       "    <tr>\n",
       "      <th>9</th>\n",
       "      <td>2004.0</td>\n",
       "      <td>3.407377e+06</td>\n",
       "      <td>1695031.0</td>\n",
       "      <td>986.0</td>\n",
       "    </tr>\n",
       "    <tr>\n",
       "      <th>10</th>\n",
       "      <td>2003.0</td>\n",
       "      <td>3.361518e+06</td>\n",
       "      <td>1673401.0</td>\n",
       "      <td>988.0</td>\n",
       "    </tr>\n",
       "    <tr>\n",
       "      <th>11</th>\n",
       "      <td>2002.0</td>\n",
       "      <td>3.386488e+06</td>\n",
       "      <td>1684295.0</td>\n",
       "      <td>992.0</td>\n",
       "    </tr>\n",
       "    <tr>\n",
       "      <th>12</th>\n",
       "      <td>2001.0</td>\n",
       "      <td>3.331487e+06</td>\n",
       "      <td>1658558.0</td>\n",
       "      <td>995.0</td>\n",
       "    </tr>\n",
       "    <tr>\n",
       "      <th>13</th>\n",
       "      <td>2000.0</td>\n",
       "      <td>3.280524e+06</td>\n",
       "      <td>1634667.0</td>\n",
       "      <td>998.0</td>\n",
       "    </tr>\n",
       "    <tr>\n",
       "      <th>14</th>\n",
       "      <td>1999.0</td>\n",
       "      <td>3.238530e+06</td>\n",
       "      <td>1614804.0</td>\n",
       "      <td>1000.0</td>\n",
       "    </tr>\n",
       "    <tr>\n",
       "      <th>15</th>\n",
       "      <td>1998.0</td>\n",
       "      <td>3.189700e+06</td>\n",
       "      <td>1591816.0</td>\n",
       "      <td>1002.0</td>\n",
       "    </tr>\n",
       "    <tr>\n",
       "      <th>16</th>\n",
       "      <td>1997.0</td>\n",
       "      <td>3.133979e+06</td>\n",
       "      <td>1565750.0</td>\n",
       "      <td>1005.0</td>\n",
       "    </tr>\n",
       "    <tr>\n",
       "      <th>17</th>\n",
       "      <td>1996.0</td>\n",
       "      <td>3.078989e+06</td>\n",
       "      <td>1540018.0</td>\n",
       "      <td>1008.0</td>\n",
       "    </tr>\n",
       "    <tr>\n",
       "      <th>18</th>\n",
       "      <td>1995.0</td>\n",
       "      <td>3.023564e+06</td>\n",
       "      <td>1514015.0</td>\n",
       "      <td>1010.0</td>\n",
       "    </tr>\n",
       "    <tr>\n",
       "      <th>19</th>\n",
       "      <td>1994.0</td>\n",
       "      <td>2.970536e+06</td>\n",
       "      <td>1489180.0</td>\n",
       "      <td>1013.0</td>\n",
       "    </tr>\n",
       "    <tr>\n",
       "      <th>20</th>\n",
       "      <td>1993.0</td>\n",
       "      <td>2.917084e+06</td>\n",
       "      <td>1464223.0</td>\n",
       "      <td>1017.0</td>\n",
       "    </tr>\n",
       "    <tr>\n",
       "      <th>21</th>\n",
       "      <td>1992.0</td>\n",
       "      <td>2.863346e+06</td>\n",
       "      <td>1439063.0</td>\n",
       "      <td>1020.0</td>\n",
       "    </tr>\n",
       "    <tr>\n",
       "      <th>22</th>\n",
       "      <td>1991.0</td>\n",
       "      <td>2.810176e+06</td>\n",
       "      <td>1414307.0</td>\n",
       "      <td>1025.0</td>\n",
       "    </tr>\n",
       "    <tr>\n",
       "      <th>23</th>\n",
       "      <td>1990.0</td>\n",
       "      <td>2.750348e+06</td>\n",
       "      <td>1386291.0</td>\n",
       "      <td>1027.0</td>\n",
       "    </tr>\n",
       "    <tr>\n",
       "      <th>24</th>\n",
       "      <td>1989.0</td>\n",
       "      <td>2.653647e+06</td>\n",
       "      <td>1341275.0</td>\n",
       "      <td>1027.0</td>\n",
       "    </tr>\n",
       "    <tr>\n",
       "      <th>25</th>\n",
       "      <td>1988.0</td>\n",
       "      <td>2.601390e+06</td>\n",
       "      <td>1316577.0</td>\n",
       "      <td>1027.0</td>\n",
       "    </tr>\n",
       "    <tr>\n",
       "      <th>26</th>\n",
       "      <td>1987.0</td>\n",
       "      <td>2.554182e+06</td>\n",
       "      <td>1294187.0</td>\n",
       "      <td>1027.0</td>\n",
       "    </tr>\n",
       "    <tr>\n",
       "      <th>27</th>\n",
       "      <td>1986.0</td>\n",
       "      <td>2.517153e+06</td>\n",
       "      <td>1276522.0</td>\n",
       "      <td>1028.0</td>\n",
       "    </tr>\n",
       "    <tr>\n",
       "      <th>28</th>\n",
       "      <td>1985.0</td>\n",
       "      <td>2.479421e+06</td>\n",
       "      <td>1258464.0</td>\n",
       "      <td>1028.0</td>\n",
       "    </tr>\n",
       "    <tr>\n",
       "      <th>29</th>\n",
       "      <td>1984.0</td>\n",
       "      <td>2.438695e+06</td>\n",
       "      <td>1239109.0</td>\n",
       "      <td>1029.0</td>\n",
       "    </tr>\n",
       "    <tr>\n",
       "      <th>30</th>\n",
       "      <td>1983.0</td>\n",
       "      <td>2.399695e+06</td>\n",
       "      <td>1220471.0</td>\n",
       "      <td>1029.0</td>\n",
       "    </tr>\n",
       "    <tr>\n",
       "      <th>31</th>\n",
       "      <td>1982.0</td>\n",
       "      <td>2.357230e+06</td>\n",
       "      <td>1200321.0</td>\n",
       "      <td>1030.0</td>\n",
       "    </tr>\n",
       "    <tr>\n",
       "      <th>32</th>\n",
       "      <td>1981.0</td>\n",
       "      <td>2.313951e+06</td>\n",
       "      <td>1179799.0</td>\n",
       "      <td>1031.0</td>\n",
       "    </tr>\n",
       "    <tr>\n",
       "      <th>33</th>\n",
       "      <td>1980.0</td>\n",
       "      <td>2.270090e+06</td>\n",
       "      <td>1159011.0</td>\n",
       "      <td>1032.0</td>\n",
       "    </tr>\n",
       "    <tr>\n",
       "      <th>34</th>\n",
       "      <td>1979.0</td>\n",
       "      <td>2.395604e+06</td>\n",
       "      <td>1216300.0</td>\n",
       "      <td>1042.0</td>\n",
       "    </tr>\n",
       "    <tr>\n",
       "      <th>35</th>\n",
       "      <td>1978.0</td>\n",
       "      <td>2.364622e+06</td>\n",
       "      <td>1201400.0</td>\n",
       "      <td>1043.0</td>\n",
       "    </tr>\n",
       "    <tr>\n",
       "      <th>36</th>\n",
       "      <td>1977.0</td>\n",
       "      <td>2.335549e+06</td>\n",
       "      <td>1187300.0</td>\n",
       "      <td>1043.0</td>\n",
       "    </tr>\n",
       "    <tr>\n",
       "      <th>37</th>\n",
       "      <td>1976.0</td>\n",
       "      <td>2.302161e+06</td>\n",
       "      <td>1171300.0</td>\n",
       "      <td>1044.0</td>\n",
       "    </tr>\n",
       "    <tr>\n",
       "      <th>38</th>\n",
       "      <td>1975.0</td>\n",
       "      <td>2.270524e+06</td>\n",
       "      <td>1156100.0</td>\n",
       "      <td>1045.0</td>\n",
       "    </tr>\n",
       "    <tr>\n",
       "      <th>39</th>\n",
       "      <td>1974.0</td>\n",
       "      <td>2.236262e+06</td>\n",
       "      <td>1139700.0</td>\n",
       "      <td>1046.0</td>\n",
       "    </tr>\n",
       "    <tr>\n",
       "      <th>40</th>\n",
       "      <td>1973.0</td>\n",
       "      <td>2.198001e+06</td>\n",
       "      <td>1121400.0</td>\n",
       "      <td>1046.0</td>\n",
       "    </tr>\n",
       "    <tr>\n",
       "      <th>41</th>\n",
       "      <td>1972.0</td>\n",
       "      <td>2.155207e+06</td>\n",
       "      <td>1101100.0</td>\n",
       "      <td>1047.0</td>\n",
       "    </tr>\n",
       "    <tr>\n",
       "      <th>42</th>\n",
       "      <td>1971.0</td>\n",
       "      <td>2.113289e+06</td>\n",
       "      <td>1081200.0</td>\n",
       "      <td>1048.0</td>\n",
       "    </tr>\n",
       "    <tr>\n",
       "      <th>43</th>\n",
       "      <td>1970.0</td>\n",
       "      <td>2.004674e+06</td>\n",
       "      <td>1030809.0</td>\n",
       "      <td>1049.0</td>\n",
       "    </tr>\n",
       "    <tr>\n",
       "      <th>44</th>\n",
       "      <td>1969.0</td>\n",
       "      <td>2.041169e+06</td>\n",
       "      <td>1046900.0</td>\n",
       "      <td>1052.0</td>\n",
       "    </tr>\n",
       "    <tr>\n",
       "      <th>45</th>\n",
       "      <td>1968.0</td>\n",
       "      <td>2.014153e+06</td>\n",
       "      <td>1034100.0</td>\n",
       "      <td>1057.0</td>\n",
       "    </tr>\n",
       "    <tr>\n",
       "      <th>46</th>\n",
       "      <td>1967.0</td>\n",
       "      <td>1.978920e+06</td>\n",
       "      <td>1017400.0</td>\n",
       "      <td>1060.0</td>\n",
       "    </tr>\n",
       "    <tr>\n",
       "      <th>47</th>\n",
       "      <td>1966.0</td>\n",
       "      <td>1.933283e+06</td>\n",
       "      <td>995800.0</td>\n",
       "      <td>1061.0</td>\n",
       "    </tr>\n",
       "    <tr>\n",
       "      <th>48</th>\n",
       "      <td>1965.0</td>\n",
       "      <td>1.886142e+06</td>\n",
       "      <td>973800.0</td>\n",
       "      <td>1066.0</td>\n",
       "    </tr>\n",
       "    <tr>\n",
       "      <th>49</th>\n",
       "      <td>1964.0</td>\n",
       "      <td>1.838660e+06</td>\n",
       "      <td>951500.0</td>\n",
       "      <td>1069.0</td>\n",
       "    </tr>\n",
       "    <tr>\n",
       "      <th>50</th>\n",
       "      <td>1963.0</td>\n",
       "      <td>1.791239e+06</td>\n",
       "      <td>929300.0</td>\n",
       "      <td>1073.0</td>\n",
       "    </tr>\n",
       "    <tr>\n",
       "      <th>51</th>\n",
       "      <td>1962.0</td>\n",
       "      <td>1.748282e+06</td>\n",
       "      <td>909500.0</td>\n",
       "      <td>1082.0</td>\n",
       "    </tr>\n",
       "    <tr>\n",
       "      <th>52</th>\n",
       "      <td>1961.0</td>\n",
       "      <td>1.698954e+06</td>\n",
       "      <td>886500.0</td>\n",
       "      <td>1087.0</td>\n",
       "    </tr>\n",
       "    <tr>\n",
       "      <th>53</th>\n",
       "      <td>1960.0</td>\n",
       "      <td>1.640937e+06</td>\n",
       "      <td>859600.0</td>\n",
       "      <td>1093.0</td>\n",
       "    </tr>\n",
       "    <tr>\n",
       "      <th>54</th>\n",
       "      <td>1959.0</td>\n",
       "      <td>1.578922e+06</td>\n",
       "      <td>830800.0</td>\n",
       "      <td>1098.0</td>\n",
       "    </tr>\n",
       "    <tr>\n",
       "      <th>55</th>\n",
       "      <td>1958.0</td>\n",
       "      <td>1.506810e+06</td>\n",
       "      <td>797600.0</td>\n",
       "      <td>1106.0</td>\n",
       "    </tr>\n",
       "    <tr>\n",
       "      <th>56</th>\n",
       "      <td>1957.0</td>\n",
       "      <td>1.430639e+06</td>\n",
       "      <td>762760.0</td>\n",
       "      <td>1117.0</td>\n",
       "    </tr>\n",
       "  </tbody>\n",
       "</table>\n",
       "</div>"
      ],
      "text/plain": [
       "      Year            TR        TMR      SR\n",
       "0   2013.0  3.824059e+06  1891504.0   968.0\n",
       "1   2012.0  3.800450e+06  1880046.0   970.0\n",
       "2   2011.0  3.775927e+06  1868170.0   972.0\n",
       "3   2010.0  3.761988e+06  1861133.0   974.0\n",
       "4   2009.0  3.727567e+06  1844732.0   976.0\n",
       "5   2008.0  3.637403e+06  1802992.0   980.0\n",
       "6   2007.0  3.578670e+06  1775477.0   982.0\n",
       "7   2006.0  3.520707e+06  1748242.0   983.0\n",
       "8   2005.0  3.462875e+06  1721139.0   985.0\n",
       "9   2004.0  3.407377e+06  1695031.0   986.0\n",
       "10  2003.0  3.361518e+06  1673401.0   988.0\n",
       "11  2002.0  3.386488e+06  1684295.0   992.0\n",
       "12  2001.0  3.331487e+06  1658558.0   995.0\n",
       "13  2000.0  3.280524e+06  1634667.0   998.0\n",
       "14  1999.0  3.238530e+06  1614804.0  1000.0\n",
       "15  1998.0  3.189700e+06  1591816.0  1002.0\n",
       "16  1997.0  3.133979e+06  1565750.0  1005.0\n",
       "17  1996.0  3.078989e+06  1540018.0  1008.0\n",
       "18  1995.0  3.023564e+06  1514015.0  1010.0\n",
       "19  1994.0  2.970536e+06  1489180.0  1013.0\n",
       "20  1993.0  2.917084e+06  1464223.0  1017.0\n",
       "21  1992.0  2.863346e+06  1439063.0  1020.0\n",
       "22  1991.0  2.810176e+06  1414307.0  1025.0\n",
       "23  1990.0  2.750348e+06  1386291.0  1027.0\n",
       "24  1989.0  2.653647e+06  1341275.0  1027.0\n",
       "25  1988.0  2.601390e+06  1316577.0  1027.0\n",
       "26  1987.0  2.554182e+06  1294187.0  1027.0\n",
       "27  1986.0  2.517153e+06  1276522.0  1028.0\n",
       "28  1985.0  2.479421e+06  1258464.0  1028.0\n",
       "29  1984.0  2.438695e+06  1239109.0  1029.0\n",
       "30  1983.0  2.399695e+06  1220471.0  1029.0\n",
       "31  1982.0  2.357230e+06  1200321.0  1030.0\n",
       "32  1981.0  2.313951e+06  1179799.0  1031.0\n",
       "33  1980.0  2.270090e+06  1159011.0  1032.0\n",
       "34  1979.0  2.395604e+06  1216300.0  1042.0\n",
       "35  1978.0  2.364622e+06  1201400.0  1043.0\n",
       "36  1977.0  2.335549e+06  1187300.0  1043.0\n",
       "37  1976.0  2.302161e+06  1171300.0  1044.0\n",
       "38  1975.0  2.270524e+06  1156100.0  1045.0\n",
       "39  1974.0  2.236262e+06  1139700.0  1046.0\n",
       "40  1973.0  2.198001e+06  1121400.0  1046.0\n",
       "41  1972.0  2.155207e+06  1101100.0  1047.0\n",
       "42  1971.0  2.113289e+06  1081200.0  1048.0\n",
       "43  1970.0  2.004674e+06  1030809.0  1049.0\n",
       "44  1969.0  2.041169e+06  1046900.0  1052.0\n",
       "45  1968.0  2.014153e+06  1034100.0  1057.0\n",
       "46  1967.0  1.978920e+06  1017400.0  1060.0\n",
       "47  1966.0  1.933283e+06   995800.0  1061.0\n",
       "48  1965.0  1.886142e+06   973800.0  1066.0\n",
       "49  1964.0  1.838660e+06   951500.0  1069.0\n",
       "50  1963.0  1.791239e+06   929300.0  1073.0\n",
       "51  1962.0  1.748282e+06   909500.0  1082.0\n",
       "52  1961.0  1.698954e+06   886500.0  1087.0\n",
       "53  1960.0  1.640937e+06   859600.0  1093.0\n",
       "54  1959.0  1.578922e+06   830800.0  1098.0\n",
       "55  1958.0  1.506810e+06   797600.0  1106.0\n",
       "56  1957.0  1.430639e+06   762760.0  1117.0"
      ]
     },
     "execution_count": 24,
     "metadata": {},
     "output_type": "execute_result"
    }
   ],
   "source": [
    "rs = np.column_stack((np.array(X['Year']),\n",
    "                      np.array(Y_pred),\n",
    "                      np.array(X[['TMR', 'SR']])))\n",
    "rs = sc.inverse_transform(rs)\n",
    "rs = pd.DataFrame(rs)\n",
    "rs.columns = df.columns\n",
    "rs"
   ]
  },
  {
   "cell_type": "code",
   "execution_count": 25,
   "metadata": {},
   "outputs": [
    {
     "name": "stdout",
     "output_type": "stream",
     "text": [
      "Training MSE:  0.0\n",
      "Training R2:  1.0\n"
     ]
    }
   ],
   "source": [
    "r2 = r2_score(rs['Year'], train['Year'])\n",
    "mse = mean_squared_error(rs['Year'], train['Year'])\n",
    "print('Training MSE: ', mse)\n",
    "print('Training R2: ', r2)"
   ]
  },
  {
   "cell_type": "code",
   "execution_count": 26,
   "metadata": {},
   "outputs": [],
   "source": [
    "# testing\n",
    "X = tmp_2[['Year', 'TMR', 'SR']]\n",
    "Y = tmp_2['TR']"
   ]
  },
  {
   "cell_type": "code",
   "execution_count": 27,
   "metadata": {},
   "outputs": [],
   "source": [
    "rgs = LinearRegression()\n",
    "rgs.fit(X, Y)\n",
    "Y_pred = rgs.predict(X)"
   ]
  },
  {
   "cell_type": "code",
   "execution_count": 28,
   "metadata": {},
   "outputs": [
    {
     "data": {
      "text/html": [
       "<div>\n",
       "<style scoped>\n",
       "    .dataframe tbody tr th:only-of-type {\n",
       "        vertical-align: middle;\n",
       "    }\n",
       "\n",
       "    .dataframe tbody tr th {\n",
       "        vertical-align: top;\n",
       "    }\n",
       "\n",
       "    .dataframe thead th {\n",
       "        text-align: right;\n",
       "    }\n",
       "</style>\n",
       "<table border=\"1\" class=\"dataframe\">\n",
       "  <thead>\n",
       "    <tr style=\"text-align: right;\">\n",
       "      <th></th>\n",
       "      <th>Year</th>\n",
       "      <th>TR</th>\n",
       "      <th>TMR</th>\n",
       "      <th>SR</th>\n",
       "    </tr>\n",
       "  </thead>\n",
       "  <tbody>\n",
       "    <tr>\n",
       "      <th>0</th>\n",
       "      <td>2022.0</td>\n",
       "      <td>4.073281e+06</td>\n",
       "      <td>1990212.0</td>\n",
       "      <td>955.0</td>\n",
       "    </tr>\n",
       "    <tr>\n",
       "      <th>1</th>\n",
       "      <td>2021.0</td>\n",
       "      <td>3.986846e+06</td>\n",
       "      <td>1953114.0</td>\n",
       "      <td>960.0</td>\n",
       "    </tr>\n",
       "    <tr>\n",
       "      <th>2</th>\n",
       "      <td>2020.0</td>\n",
       "      <td>4.044114e+06</td>\n",
       "      <td>1977556.0</td>\n",
       "      <td>957.0</td>\n",
       "    </tr>\n",
       "    <tr>\n",
       "      <th>3</th>\n",
       "      <td>2019.0</td>\n",
       "      <td>4.025991e+06</td>\n",
       "      <td>1969382.0</td>\n",
       "      <td>957.0</td>\n",
       "    </tr>\n",
       "    <tr>\n",
       "      <th>4</th>\n",
       "      <td>2018.0</td>\n",
       "      <td>3.994519e+06</td>\n",
       "      <td>1955838.0</td>\n",
       "      <td>959.0</td>\n",
       "    </tr>\n",
       "    <tr>\n",
       "      <th>5</th>\n",
       "      <td>2017.0</td>\n",
       "      <td>3.965867e+06</td>\n",
       "      <td>1943545.0</td>\n",
       "      <td>961.0</td>\n",
       "    </tr>\n",
       "    <tr>\n",
       "      <th>6</th>\n",
       "      <td>2016.0</td>\n",
       "      <td>3.933324e+06</td>\n",
       "      <td>1929526.0</td>\n",
       "      <td>963.0</td>\n",
       "    </tr>\n",
       "    <tr>\n",
       "      <th>7</th>\n",
       "      <td>2015.0</td>\n",
       "      <td>3.903308e+06</td>\n",
       "      <td>1916628.0</td>\n",
       "      <td>965.0</td>\n",
       "    </tr>\n",
       "    <tr>\n",
       "      <th>8</th>\n",
       "      <td>2014.0</td>\n",
       "      <td>3.870317e+06</td>\n",
       "      <td>1902410.0</td>\n",
       "      <td>967.0</td>\n",
       "    </tr>\n",
       "  </tbody>\n",
       "</table>\n",
       "</div>"
      ],
      "text/plain": [
       "     Year            TR        TMR     SR\n",
       "0  2022.0  4.073281e+06  1990212.0  955.0\n",
       "1  2021.0  3.986846e+06  1953114.0  960.0\n",
       "2  2020.0  4.044114e+06  1977556.0  957.0\n",
       "3  2019.0  4.025991e+06  1969382.0  957.0\n",
       "4  2018.0  3.994519e+06  1955838.0  959.0\n",
       "5  2017.0  3.965867e+06  1943545.0  961.0\n",
       "6  2016.0  3.933324e+06  1929526.0  963.0\n",
       "7  2015.0  3.903308e+06  1916628.0  965.0\n",
       "8  2014.0  3.870317e+06  1902410.0  967.0"
      ]
     },
     "execution_count": 28,
     "metadata": {},
     "output_type": "execute_result"
    }
   ],
   "source": [
    "rs = np.column_stack((np.array(X['Year']),\n",
    "                      np.array(Y_pred),\n",
    "                      np.array(X[['TMR', 'SR']])))\n",
    "rs = sc.inverse_transform(rs)\n",
    "rs = pd.DataFrame(rs)\n",
    "rs.columns = df.columns\n",
    "rs"
   ]
  },
  {
   "cell_type": "code",
   "execution_count": 29,
   "metadata": {},
   "outputs": [
    {
     "name": "stdout",
     "output_type": "stream",
     "text": [
      "Testing MSE:  5.744309809396025e-27\n",
      "Testing R2:  1.0\n"
     ]
    }
   ],
   "source": [
    "r2 = r2_score(rs['Year'], test['Year'])\n",
    "mse = mean_squared_error(rs['Year'], test['Year'])\n",
    "print('Testing MSE: ', mse)\n",
    "print('Testing R2: ', r2)"
   ]
  },
  {
   "cell_type": "markdown",
   "metadata": {},
   "source": [
    "The testing result of multivariate regression has a 0-like MSE and its R^2 coefficient equals to 1, which is much more precise than the previous simple linear regression with [Testing MSE, R^2] = [2907187388.7105937, 0.9857883020995728].\n",
    "<br>\n",
    "Therefore, multivariate linear regression can be considered an effective enhancement method."
   ]
  },
  {
   "cell_type": "markdown",
   "metadata": {},
   "source": [
    "### Chinese Population Prediction\n",
    "a. Load Dataset"
   ]
  },
  {
   "cell_type": "code",
   "execution_count": 30,
   "metadata": {},
   "outputs": [
    {
     "data": {
      "text/html": [
       "<div>\n",
       "<style scoped>\n",
       "    .dataframe tbody tr th:only-of-type {\n",
       "        vertical-align: middle;\n",
       "    }\n",
       "\n",
       "    .dataframe tbody tr th {\n",
       "        vertical-align: top;\n",
       "    }\n",
       "\n",
       "    .dataframe thead th {\n",
       "        text-align: right;\n",
       "    }\n",
       "</style>\n",
       "<table border=\"1\" class=\"dataframe\">\n",
       "  <thead>\n",
       "    <tr style=\"text-align: right;\">\n",
       "      <th></th>\n",
       "      <th>Year</th>\n",
       "      <th>PPL</th>\n",
       "    </tr>\n",
       "  </thead>\n",
       "  <tbody>\n",
       "    <tr>\n",
       "      <th>0</th>\n",
       "      <td>1960</td>\n",
       "      <td>667070000</td>\n",
       "    </tr>\n",
       "    <tr>\n",
       "      <th>1</th>\n",
       "      <td>1961</td>\n",
       "      <td>660330000</td>\n",
       "    </tr>\n",
       "    <tr>\n",
       "      <th>2</th>\n",
       "      <td>1962</td>\n",
       "      <td>665770000</td>\n",
       "    </tr>\n",
       "    <tr>\n",
       "      <th>3</th>\n",
       "      <td>1963</td>\n",
       "      <td>682335000</td>\n",
       "    </tr>\n",
       "    <tr>\n",
       "      <th>4</th>\n",
       "      <td>1964</td>\n",
       "      <td>698355000</td>\n",
       "    </tr>\n",
       "    <tr>\n",
       "      <th>...</th>\n",
       "      <td>...</td>\n",
       "      <td>...</td>\n",
       "    </tr>\n",
       "    <tr>\n",
       "      <th>57</th>\n",
       "      <td>2017</td>\n",
       "      <td>1396215000</td>\n",
       "    </tr>\n",
       "    <tr>\n",
       "      <th>58</th>\n",
       "      <td>2018</td>\n",
       "      <td>1402760000</td>\n",
       "    </tr>\n",
       "    <tr>\n",
       "      <th>59</th>\n",
       "      <td>2019</td>\n",
       "      <td>1407745000</td>\n",
       "    </tr>\n",
       "    <tr>\n",
       "      <th>60</th>\n",
       "      <td>2020</td>\n",
       "      <td>1411100000</td>\n",
       "    </tr>\n",
       "    <tr>\n",
       "      <th>61</th>\n",
       "      <td>2021</td>\n",
       "      <td>1412360000</td>\n",
       "    </tr>\n",
       "  </tbody>\n",
       "</table>\n",
       "<p>62 rows × 2 columns</p>\n",
       "</div>"
      ],
      "text/plain": [
       "    Year         PPL\n",
       "0   1960   667070000\n",
       "1   1961   660330000\n",
       "2   1962   665770000\n",
       "3   1963   682335000\n",
       "4   1964   698355000\n",
       "..   ...         ...\n",
       "57  2017  1396215000\n",
       "58  2018  1402760000\n",
       "59  2019  1407745000\n",
       "60  2020  1411100000\n",
       "61  2021  1412360000\n",
       "\n",
       "[62 rows x 2 columns]"
      ]
     },
     "execution_count": 30,
     "metadata": {},
     "output_type": "execute_result"
    }
   ],
   "source": [
    "CNData = pd.read_csv('CNData.csv')\n",
    "CNData"
   ]
  },
  {
   "cell_type": "markdown",
   "metadata": {},
   "source": [
    "PPL = Population"
   ]
  },
  {
   "cell_type": "markdown",
   "metadata": {},
   "source": [
    "b. Year-Population Plot"
   ]
  },
  {
   "cell_type": "code",
   "execution_count": 31,
   "metadata": {},
   "outputs": [
    {
     "data": {
      "image/png": "[encoded data removed]",
      "text/plain": [
       "<Figure size 432x288 with 1 Axes>"
      ]
     },
     "metadata": {},
     "output_type": "display_data"
    }
   ],
   "source": [
    "sns.set_theme(style='white')\n",
    "sns.scatterplot(x=CNData['Year'], y=CNData['PPL'])\n",
    "plt.title('Chinese Population 1960-2021')\n",
    "plt.ylabel('Total Population')\n",
    "plt.xlabel('Year')\n",
    "plt.show()"
   ]
  },
  {
   "cell_type": "markdown",
   "metadata": {},
   "source": [
    "c. Model Training"
   ]
  },
  {
   "cell_type": "code",
   "execution_count": 32,
   "metadata": {},
   "outputs": [],
   "source": [
    "cn_train = CNData.loc[CNData['Year']<=2013, :]\n",
    "cn_test = CNData.loc[CNData['Year']>2013, :]"
   ]
  },
  {
   "cell_type": "code",
   "execution_count": 33,
   "metadata": {},
   "outputs": [],
   "source": [
    "x1 = np.array(cn_train['Year']).reshape(-1, 1)\n",
    "x2 = np.array(cn_test['Year']).reshape(-1, 1)\n",
    "y1 = np.array(cn_train['PPL']).reshape(-1, 1)\n",
    "y2 = np.array(cn_test['PPL']).reshape(-1, 1)"
   ]
  },
  {
   "cell_type": "code",
   "execution_count": 34,
   "metadata": {},
   "outputs": [],
   "source": [
    "rgs = LinearRegression()\n",
    "rgs.fit(x1, y1)\n",
    "y1_pred = rgs.predict(x1)"
   ]
  },
  {
   "cell_type": "markdown",
   "metadata": {},
   "source": [
    "d. i. Best-Fit Line"
   ]
  },
  {
   "cell_type": "code",
   "execution_count": 35,
   "metadata": {},
   "outputs": [
    {
     "name": "stdout",
     "output_type": "stream",
     "text": [
      "Slope:  [[14006789.21288355]]\n",
      "y-Intercept:  [-2.67690896e+10]\n"
     ]
    }
   ],
   "source": [
    "print('Slope: ', rgs.coef_)\n",
    "print('y-Intercept: ', rgs.intercept_)"
   ]
  },
  {
   "cell_type": "code",
   "execution_count": 36,
   "metadata": {},
   "outputs": [
    {
     "data": {
      "image/png": "[encoded data removed]",
      "text/plain": [
       "<Figure size 432x288 with 1 Axes>"
      ]
     },
     "metadata": {},
     "output_type": "display_data"
    }
   ],
   "source": [
    "temp = CNData['Year'].map(lambda x: rgs.coef_*x+rgs.intercept_)\n",
    "sns.scatterplot(x=CNData['Year'], y=CNData['PPL'])\n",
    "plt.plot(CNData['Year'], temp, color='r')\n",
    "plt.title('Chinese Population 1960-2021')\n",
    "plt.ylabel('Total Population')\n",
    "plt.xlabel('Year')\n",
    "plt.show()"
   ]
  },
  {
   "cell_type": "markdown",
   "metadata": {},
   "source": [
    "d. ii. R^2 Coefficient"
   ]
  },
  {
   "cell_type": "code",
   "execution_count": 37,
   "metadata": {},
   "outputs": [
    {
     "name": "stdout",
     "output_type": "stream",
     "text": [
      "R2:  0.9832476129933141\n"
     ]
    }
   ],
   "source": [
    "r2 = r2_score(y1, y1_pred)\n",
    "print('R2: ', r2)"
   ]
  },
  {
   "cell_type": "markdown",
   "metadata": {},
   "source": [
    "d. iii. Training MSE"
   ]
  },
  {
   "cell_type": "code",
   "execution_count": 38,
   "metadata": {},
   "outputs": [
    {
     "name": "stdout",
     "output_type": "stream",
     "text": [
      "Training MSE:  811985540736408.5\n"
     ]
    }
   ],
   "source": [
    "mse = mean_squared_error(y1, y1_pred)\n",
    "print('Training MSE: ', mse)"
   ]
  },
  {
   "cell_type": "markdown",
   "metadata": {},
   "source": [
    "d. iv. Testing"
   ]
  },
  {
   "cell_type": "code",
   "execution_count": 39,
   "metadata": {},
   "outputs": [],
   "source": [
    "y2_pred = rgs.predict(x2)"
   ]
  },
  {
   "cell_type": "markdown",
   "metadata": {},
   "source": [
    "d. v. Testing MSE"
   ]
  },
  {
   "cell_type": "code",
   "execution_count": 40,
   "metadata": {},
   "outputs": [
    {
     "name": "stdout",
     "output_type": "stream",
     "text": [
      "Testing MSE:  9065457889543732.0\n"
     ]
    }
   ],
   "source": [
    "mse = mean_squared_error(y2, y2_pred)\n",
    "print('Testing MSE: ', mse)"
   ]
  },
  {
   "cell_type": "markdown",
   "metadata": {},
   "source": [
    "e. Prediction of 2030-2050"
   ]
  },
  {
   "cell_type": "code",
   "execution_count": 41,
   "metadata": {},
   "outputs": [],
   "source": [
    "X = []\n",
    "for i in range(2030, 2051):\n",
    "    X.append(i)\n",
    "X = np.array(X).reshape(-1, 1)"
   ]
  },
  {
   "cell_type": "code",
   "execution_count": 42,
   "metadata": {},
   "outputs": [
    {
     "data": {
      "text/html": [
       "<div>\n",
       "<style scoped>\n",
       "    .dataframe tbody tr th:only-of-type {\n",
       "        vertical-align: middle;\n",
       "    }\n",
       "\n",
       "    .dataframe tbody tr th {\n",
       "        vertical-align: top;\n",
       "    }\n",
       "\n",
       "    .dataframe thead th {\n",
       "        text-align: right;\n",
       "    }\n",
       "</style>\n",
       "<table border=\"1\" class=\"dataframe\">\n",
       "  <thead>\n",
       "    <tr style=\"text-align: right;\">\n",
       "      <th></th>\n",
       "      <th>Year</th>\n",
       "      <th>Population</th>\n",
       "    </tr>\n",
       "  </thead>\n",
       "  <tbody>\n",
       "    <tr>\n",
       "      <th>0</th>\n",
       "      <td>2030.0</td>\n",
       "      <td>1.664692e+09</td>\n",
       "    </tr>\n",
       "    <tr>\n",
       "      <th>1</th>\n",
       "      <td>2031.0</td>\n",
       "      <td>1.678699e+09</td>\n",
       "    </tr>\n",
       "    <tr>\n",
       "      <th>2</th>\n",
       "      <td>2032.0</td>\n",
       "      <td>1.692706e+09</td>\n",
       "    </tr>\n",
       "    <tr>\n",
       "      <th>3</th>\n",
       "      <td>2033.0</td>\n",
       "      <td>1.706713e+09</td>\n",
       "    </tr>\n",
       "    <tr>\n",
       "      <th>4</th>\n",
       "      <td>2034.0</td>\n",
       "      <td>1.720720e+09</td>\n",
       "    </tr>\n",
       "    <tr>\n",
       "      <th>5</th>\n",
       "      <td>2035.0</td>\n",
       "      <td>1.734726e+09</td>\n",
       "    </tr>\n",
       "    <tr>\n",
       "      <th>6</th>\n",
       "      <td>2036.0</td>\n",
       "      <td>1.748733e+09</td>\n",
       "    </tr>\n",
       "    <tr>\n",
       "      <th>7</th>\n",
       "      <td>2037.0</td>\n",
       "      <td>1.762740e+09</td>\n",
       "    </tr>\n",
       "    <tr>\n",
       "      <th>8</th>\n",
       "      <td>2038.0</td>\n",
       "      <td>1.776747e+09</td>\n",
       "    </tr>\n",
       "    <tr>\n",
       "      <th>9</th>\n",
       "      <td>2039.0</td>\n",
       "      <td>1.790754e+09</td>\n",
       "    </tr>\n",
       "    <tr>\n",
       "      <th>10</th>\n",
       "      <td>2040.0</td>\n",
       "      <td>1.804760e+09</td>\n",
       "    </tr>\n",
       "    <tr>\n",
       "      <th>11</th>\n",
       "      <td>2041.0</td>\n",
       "      <td>1.818767e+09</td>\n",
       "    </tr>\n",
       "    <tr>\n",
       "      <th>12</th>\n",
       "      <td>2042.0</td>\n",
       "      <td>1.832774e+09</td>\n",
       "    </tr>\n",
       "    <tr>\n",
       "      <th>13</th>\n",
       "      <td>2043.0</td>\n",
       "      <td>1.846781e+09</td>\n",
       "    </tr>\n",
       "    <tr>\n",
       "      <th>14</th>\n",
       "      <td>2044.0</td>\n",
       "      <td>1.860788e+09</td>\n",
       "    </tr>\n",
       "    <tr>\n",
       "      <th>15</th>\n",
       "      <td>2045.0</td>\n",
       "      <td>1.874794e+09</td>\n",
       "    </tr>\n",
       "    <tr>\n",
       "      <th>16</th>\n",
       "      <td>2046.0</td>\n",
       "      <td>1.888801e+09</td>\n",
       "    </tr>\n",
       "    <tr>\n",
       "      <th>17</th>\n",
       "      <td>2047.0</td>\n",
       "      <td>1.902808e+09</td>\n",
       "    </tr>\n",
       "    <tr>\n",
       "      <th>18</th>\n",
       "      <td>2048.0</td>\n",
       "      <td>1.916815e+09</td>\n",
       "    </tr>\n",
       "    <tr>\n",
       "      <th>19</th>\n",
       "      <td>2049.0</td>\n",
       "      <td>1.930821e+09</td>\n",
       "    </tr>\n",
       "    <tr>\n",
       "      <th>20</th>\n",
       "      <td>2050.0</td>\n",
       "      <td>1.944828e+09</td>\n",
       "    </tr>\n",
       "  </tbody>\n",
       "</table>\n",
       "</div>"
      ],
      "text/plain": [
       "      Year    Population\n",
       "0   2030.0  1.664692e+09\n",
       "1   2031.0  1.678699e+09\n",
       "2   2032.0  1.692706e+09\n",
       "3   2033.0  1.706713e+09\n",
       "4   2034.0  1.720720e+09\n",
       "5   2035.0  1.734726e+09\n",
       "6   2036.0  1.748733e+09\n",
       "7   2037.0  1.762740e+09\n",
       "8   2038.0  1.776747e+09\n",
       "9   2039.0  1.790754e+09\n",
       "10  2040.0  1.804760e+09\n",
       "11  2041.0  1.818767e+09\n",
       "12  2042.0  1.832774e+09\n",
       "13  2043.0  1.846781e+09\n",
       "14  2044.0  1.860788e+09\n",
       "15  2045.0  1.874794e+09\n",
       "16  2046.0  1.888801e+09\n",
       "17  2047.0  1.902808e+09\n",
       "18  2048.0  1.916815e+09\n",
       "19  2049.0  1.930821e+09\n",
       "20  2050.0  1.944828e+09"
      ]
     },
     "execution_count": 42,
     "metadata": {},
     "output_type": "execute_result"
    }
   ],
   "source": [
    "Y = rgs.predict(X)\n",
    "rs = np.column_stack((X, Y))\n",
    "rs = pd.DataFrame(rs)\n",
    "rs.columns = ['Year', 'Population']\n",
    "rs"
   ]
  },
  {
   "cell_type": "markdown",
   "metadata": {},
   "source": [
    "This prediction is not reasonable. From the figure plotted in the previous stage, it can be easily found that the growth rate of the Chinese population is descending. The predicted growth rate (slope) is a large constant because the dataset used includes the phases of acceleration of Chinese population growth. It does not match the current situation in China."
   ]
  },
  {
   "cell_type": "markdown",
   "metadata": {},
   "source": [
    "f. Logistic pattern."
   ]
  },
  {
   "cell_type": "markdown",
   "metadata": {},
   "source": [
    "g. As mentioned earlier, multivariate linear regression can be used to improve the precision of the prediction. However, due to the lack of further information, we did not verify this enhancement method by predicting the Chinese population."
   ]
  }
 ],
 "metadata": {
  "kernelspec": {
   "display_name": "Python 3 (ipykernel)",
   "language": "python",
   "name": "python3"
  },
  "language_info": {
   "codemirror_mode": {
    "name": "ipython",
    "version": 3
   },
   "file_extension": ".py",
   "mimetype": "text/x-python",
   "name": "python",
   "nbconvert_exporter": "python",
   "pygments_lexer": "ipython3",
   "version": "3.9.0"
  },
  "vscode": {
   "interpreter": {
    "hash": "3d886cc7f8927f8a701dbee423ec2316d2768a782d143ee66ef80303260b3d59"
   }
  }
 },
 "nbformat": 4,
 "nbformat_minor": 4
}
