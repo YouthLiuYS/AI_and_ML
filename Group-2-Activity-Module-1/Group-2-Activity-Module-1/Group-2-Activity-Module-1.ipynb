{
 "cells": [
  {
   "cell_type": "code",
   "execution_count": 1,
   "metadata": {},
   "outputs": [],
   "source": [
    "import numpy as np\n",
    "import pandas as pd"
   ]
  },
  {
   "cell_type": "code",
   "execution_count": 2,
   "metadata": {},
   "outputs": [],
   "source": [
    "from sklearn.metrics import mean_squared_error"
   ]
  },
  {
   "cell_type": "code",
   "execution_count": 3,
   "metadata": {},
   "outputs": [],
   "source": [
    "# Task a\n",
    "x = [0, 4, 8, 12, 16, 20, 24, 28, 32]\n",
    "y = [394.33, 329.50, 291.00, 255.17, 229.33, 204.83, 179.00, 163.83, 150.33]"
   ]
  },
  {
   "cell_type": "code",
   "execution_count": 4,
   "metadata": {},
   "outputs": [],
   "source": [
    "def linear_regression(x, y): \n",
    "    length = len(x)\n",
    "    x_sum = 0\n",
    "    for i in range(0, length):\n",
    "        x_sum += x[i]\n",
    "    x_avg = x_sum / length\n",
    "\n",
    "    y_sum = 0\n",
    "    for i in range(0, length):\n",
    "        y_sum += y[i]\n",
    "    y_avg = y_sum / length\n",
    "\n",
    "    p1 = 0\n",
    "    p2 = 0\n",
    "    for i in range(0, length):\n",
    "        p1 += (x[i] - x_avg)*(y[i] - y_avg)\n",
    "        p2 += (x[i] - x_avg)*(x[i] - x_avg)\n",
    "\n",
    "    b = p1 / p2\n",
    "    a = y_avg - b*x_avg\n",
    "    \n",
    "    a = round(a, 2)\n",
    "    b = round(b, 2)\n",
    "    \n",
    "    return([a, b])"
   ]
  },
  {
   "cell_type": "code",
   "execution_count": 5,
   "metadata": {},
   "outputs": [],
   "source": [
    "def fit(x, coe):\n",
    "    length = len(x)\n",
    "    y_reg = []\n",
    "    for i in range(0, length):\n",
    "        y_pred = x[i]*coe[1] + coe[0]\n",
    "        y_reg.append(round(y_pred, 2))\n",
    "    \n",
    "    return(y_reg)"
   ]
  },
  {
   "cell_type": "code",
   "execution_count": 6,
   "metadata": {},
   "outputs": [
    {
     "name": "stdout",
     "output_type": "stream",
     "text": [
      "[360.64, -7.28]\n"
     ]
    }
   ],
   "source": [
    "coe = linear_regression(x, y)\n",
    "print(coe)\n",
    "y_reg = fit(x, coe)"
   ]
  },
  {
   "cell_type": "code",
   "execution_count": 7,
   "metadata": {},
   "outputs": [],
   "source": [
    "def squared_error(y, y_reg):\n",
    "    sqe = []\n",
    "    length = len(y)\n",
    "    for i in range(0, length):\n",
    "        sqe.append(round((y[i] - y_reg[i])**2, 2))\n",
    "        \n",
    "    return sqe"
   ]
  },
  {
   "cell_type": "code",
   "execution_count": 8,
   "metadata": {},
   "outputs": [
    {
     "name": "stdout",
     "output_type": "stream",
     "text": [
      "[1135.02, 4.08, 129.96, 327.97, 219.93, 104.24, 47.89, 49.42, 513.02] \n",
      " 2531.53\n"
     ]
    }
   ],
   "source": [
    "sqe = squared_error(y, y_reg)\n",
    "sse = sum(sqe)\n",
    "print(sqe, \"\\n\", round(sse, 2))"
   ]
  },
  {
   "cell_type": "code",
   "execution_count": 9,
   "metadata": {},
   "outputs": [
    {
     "data": {
      "text/html": [
       "<div>\n",
       "<style scoped>\n",
       "    .dataframe tbody tr th:only-of-type {\n",
       "        vertical-align: middle;\n",
       "    }\n",
       "\n",
       "    .dataframe tbody tr th {\n",
       "        vertical-align: top;\n",
       "    }\n",
       "\n",
       "    .dataframe thead th {\n",
       "        text-align: right;\n",
       "    }\n",
       "</style>\n",
       "<table border=\"1\" class=\"dataframe\">\n",
       "  <thead>\n",
       "    <tr style=\"text-align: right;\">\n",
       "      <th></th>\n",
       "      <th>Mileage</th>\n",
       "      <th>Tire Tread Depth</th>\n",
       "      <th>Predicted Tire Tread Depth</th>\n",
       "      <th>Squared Error</th>\n",
       "    </tr>\n",
       "  </thead>\n",
       "  <tbody>\n",
       "    <tr>\n",
       "      <th>0</th>\n",
       "      <td>0.0</td>\n",
       "      <td>394.33</td>\n",
       "      <td>360.64</td>\n",
       "      <td>1135.02</td>\n",
       "    </tr>\n",
       "    <tr>\n",
       "      <th>1</th>\n",
       "      <td>4.0</td>\n",
       "      <td>329.50</td>\n",
       "      <td>331.52</td>\n",
       "      <td>4.08</td>\n",
       "    </tr>\n",
       "    <tr>\n",
       "      <th>2</th>\n",
       "      <td>8.0</td>\n",
       "      <td>291.00</td>\n",
       "      <td>302.40</td>\n",
       "      <td>129.96</td>\n",
       "    </tr>\n",
       "    <tr>\n",
       "      <th>3</th>\n",
       "      <td>12.0</td>\n",
       "      <td>255.17</td>\n",
       "      <td>273.28</td>\n",
       "      <td>327.97</td>\n",
       "    </tr>\n",
       "    <tr>\n",
       "      <th>4</th>\n",
       "      <td>16.0</td>\n",
       "      <td>229.33</td>\n",
       "      <td>244.16</td>\n",
       "      <td>219.93</td>\n",
       "    </tr>\n",
       "    <tr>\n",
       "      <th>5</th>\n",
       "      <td>20.0</td>\n",
       "      <td>204.83</td>\n",
       "      <td>215.04</td>\n",
       "      <td>104.24</td>\n",
       "    </tr>\n",
       "    <tr>\n",
       "      <th>6</th>\n",
       "      <td>24.0</td>\n",
       "      <td>179.00</td>\n",
       "      <td>185.92</td>\n",
       "      <td>47.89</td>\n",
       "    </tr>\n",
       "    <tr>\n",
       "      <th>7</th>\n",
       "      <td>28.0</td>\n",
       "      <td>163.83</td>\n",
       "      <td>156.80</td>\n",
       "      <td>49.42</td>\n",
       "    </tr>\n",
       "    <tr>\n",
       "      <th>8</th>\n",
       "      <td>32.0</td>\n",
       "      <td>150.33</td>\n",
       "      <td>127.68</td>\n",
       "      <td>513.02</td>\n",
       "    </tr>\n",
       "  </tbody>\n",
       "</table>\n",
       "</div>"
      ],
      "text/plain": [
       "   Mileage  Tire Tread Depth  Predicted Tire Tread Depth  Squared Error\n",
       "0      0.0            394.33                      360.64        1135.02\n",
       "1      4.0            329.50                      331.52           4.08\n",
       "2      8.0            291.00                      302.40         129.96\n",
       "3     12.0            255.17                      273.28         327.97\n",
       "4     16.0            229.33                      244.16         219.93\n",
       "5     20.0            204.83                      215.04         104.24\n",
       "6     24.0            179.00                      185.92          47.89\n",
       "7     28.0            163.83                      156.80          49.42\n",
       "8     32.0            150.33                      127.68         513.02"
      ]
     },
     "execution_count": 9,
     "metadata": {},
     "output_type": "execute_result"
    }
   ],
   "source": [
    "df = np.column_stack((x, y, y_reg, sqe))\n",
    "df = pd.DataFrame(df)\n",
    "df.columns = ['Mileage', 'Tire Tread Depth', 'Predicted Tire Tread Depth', 'Squared Error']\n",
    "df"
   ]
  },
  {
   "cell_type": "code",
   "execution_count": 10,
   "metadata": {},
   "outputs": [
    {
     "data": {
      "text/plain": [
       "281.28"
      ]
     },
     "execution_count": 10,
     "metadata": {},
     "output_type": "execute_result"
    }
   ],
   "source": [
    "mse = mean_squared_error(y, y_reg)\n",
    "mse = round(mse, 2)\n",
    "mse"
   ]
  },
  {
   "cell_type": "code",
   "execution_count": 11,
   "metadata": {},
   "outputs": [],
   "source": [
    "# Task b\n",
    "import matplotlib.pyplot as plt\n",
    "import seaborn as sns"
   ]
  },
  {
   "cell_type": "code",
   "execution_count": 12,
   "metadata": {},
   "outputs": [
    {
     "data": {
      "image/png": "[encoded data removed]",
      "text/plain": [
       "<Figure size 432x288 with 1 Axes>"
      ]
     },
     "metadata": {
      "needs_background": "light"
     },
     "output_type": "display_data"
    }
   ],
   "source": [
    "fig, ax = plt.subplots()\n",
    "ax.scatter(df['Mileage'], df['Tire Tread Depth'], label='Original Data')\n",
    "ax.plot(df['Mileage'], df['Predicted Tire Tread Depth'], label='Linear Regression', color='#f97306')\n",
    "ax.set(xlabel='Mileage', ylabel='Tire Tread Depth')\n",
    "ax.legend()\n",
    "plt.show()"
   ]
  },
  {
   "cell_type": "code",
   "execution_count": 13,
   "metadata": {},
   "outputs": [
    {
     "name": "stdout",
     "output_type": "stream",
     "text": [
      "[0, 4, 8, 12, 16, 20, 24, 28, 32] [394.33, 329.5, 291.0, 255.17, 229.33, 204.83, 179.0, 163.83, 150.33] [0, 4, 8, 12, 16, 20, 24, 28] [394.33, 329.5, 291.0, 255.17, 229.33, 204.83, 179.0, 163.83]\n"
     ]
    }
   ],
   "source": [
    "# Task c\n",
    "x_tmp = []\n",
    "y_tmp = []\n",
    "# drop tuple (32, 150.33)\n",
    "for i in range(0, len(x)):\n",
    "    if(x[i]!=32):\n",
    "        x_tmp.append(x[i])\n",
    "\n",
    "for i in range(0, len(y)):\n",
    "    if(y[i]!=150.33):\n",
    "        y_tmp.append(y[i])\n",
    "\n",
    "print(x, y, x_tmp, y_tmp)"
   ]
  },
  {
   "cell_type": "code",
   "execution_count": 14,
   "metadata": {},
   "outputs": [
    {
     "name": "stdout",
     "output_type": "stream",
     "text": [
      "[366.3, -7.89]\n",
      "[366.3, 334.74, 303.18, 271.62, 240.06, 208.5, 176.94, 145.38, 113.82] [366.3, 334.74, 303.18, 271.62, 240.06, 208.5, 176.94, 145.38]\n"
     ]
    }
   ],
   "source": [
    "\n",
    "coe = linear_regression(x_tmp, y_tmp)\n",
    "print(coe)\n",
    "y_reg = fit(x, coe)\n",
    "y_reg_train = fit(x_tmp, coe)\n",
    "print(y_reg, y_reg_train)"
   ]
  },
  {
   "cell_type": "code",
   "execution_count": 15,
   "metadata": {},
   "outputs": [
    {
     "name": "stdout",
     "output_type": "stream",
     "text": [
      "213.17 337.59\n"
     ]
    }
   ],
   "source": [
    "train_mse = mean_squared_error(y_tmp, y_reg_train)\n",
    "test_mse = mean_squared_error(y, y_reg)\n",
    "train_mse = round(train_mse, 2)\n",
    "test_mse = round(test_mse, 2)\n",
    "print(train_mse, test_mse)"
   ]
  },
  {
   "cell_type": "code",
   "execution_count": 16,
   "metadata": {},
   "outputs": [
    {
     "name": "stdout",
     "output_type": "stream",
     "text": [
      "1705.33 3038.31\n"
     ]
    }
   ],
   "source": [
    "train_sqe = squared_error(y_tmp, y_reg_train)\n",
    "test_sqe = squared_error(y, y_reg)\n",
    "train_sse = sum(train_sqe)\n",
    "test_sse = sum(test_sqe)\n",
    "print(round(train_sse, 2), round(test_sse, 2))"
   ]
  },
  {
   "cell_type": "code",
   "execution_count": 17,
   "metadata": {},
   "outputs": [
    {
     "data": {
      "text/plain": [
       "array([[360.63666667],\n",
       "       [331.51416667],\n",
       "       [302.39166667],\n",
       "       [273.26916667],\n",
       "       [244.14666667],\n",
       "       [215.02416667],\n",
       "       [185.90166667],\n",
       "       [156.77916667],\n",
       "       [127.65666667]])"
      ]
     },
     "execution_count": 17,
     "metadata": {},
     "output_type": "execute_result"
    }
   ],
   "source": [
    "# Task d\n",
    "from sklearn.linear_model import LinearRegression\n",
    "x = [0, 4, 8, 12, 16, 20, 24, 28, 32]\n",
    "y = [394.33, 329.50, 291.00, 255.17, 229.33, 204.83, 179.00, 163.83, 150.33]\n",
    "\n",
    "x = np.array(x).reshape(-1, 1)\n",
    "y = np.array(y).reshape(-1, 1)\n",
    "\n",
    "LR = LinearRegression().fit(x, y)\n",
    "result = LR.predict(x)\n",
    "result"
   ]
  },
  {
   "cell_type": "code",
   "execution_count": 18,
   "metadata": {},
   "outputs": [
    {
     "name": "stdout",
     "output_type": "stream",
     "text": [
      "281.28\n"
     ]
    }
   ],
   "source": [
    "mse = mean_squared_error(y, result)\n",
    "print(round(mse, 2))"
   ]
  }
 ],
 "metadata": {
  "kernelspec": {
   "display_name": "Python 3",
   "language": "python",
   "name": "python3"
  },
  "language_info": {
   "codemirror_mode": {
    "name": "ipython",
    "version": 3
   },
   "file_extension": ".py",
   "mimetype": "text/x-python",
   "name": "python",
   "nbconvert_exporter": "python",
   "pygments_lexer": "ipython3",
   "version": "3.9.0"
  },
  "orig_nbformat": 4,
  "vscode": {
   "interpreter": {
    "hash": "3d886cc7f8927f8a701dbee423ec2316d2768a782d143ee66ef80303260b3d59"
   }
  }
 },
 "nbformat": 4,
 "nbformat_minor": 2
}
