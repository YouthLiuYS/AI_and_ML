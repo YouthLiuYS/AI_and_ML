{
 "cells": [
  {
   "cell_type": "code",
   "execution_count": 1,
   "metadata": {},
   "outputs": [],
   "source": [
    "import pandas as pd\n",
    "import numpy as np\n",
    "from sklearn.svm import SVC\n",
    "import seaborn as sns\n",
    "from matplotlib import pyplot as plt"
   ]
  },
  {
   "attachments": {},
   "cell_type": "markdown",
   "metadata": {},
   "source": [
    "### Homework 1"
   ]
  },
  {
   "attachments": {},
   "cell_type": "markdown",
   "metadata": {},
   "source": [
    "#### Task a"
   ]
  },
  {
   "cell_type": "code",
   "execution_count": 2,
   "metadata": {},
   "outputs": [
    {
     "name": "stdout",
     "output_type": "stream",
     "text": [
      "Coefficient:  [[-0.49984 -0.49984]]\n",
      "Intercept:  [1.99925333]\n",
      "Support Vectors:  [[1. 5.]\n",
      " [3. 3.]\n",
      " [0. 2.]]\n"
     ]
    }
   ],
   "source": [
    "X = [[-1,3], [0,2], [0,1], [0,0], \n",
    "      [1,5], [1,6], [3,3]]\n",
    "Y = [1, 1, 1, 1, \n",
    "     0, 0, 0]\n",
    "clf = SVC(kernel = 'linear')\n",
    "clf.fit(X, Y)\n",
    "print(\"Coefficient: \", clf.coef_)\n",
    "print(\"Intercept: \", clf.intercept_)\n",
    "print(\"Support Vectors: \", clf.support_vectors_)"
   ]
  },
  {
   "cell_type": "code",
   "execution_count": 3,
   "metadata": {},
   "outputs": [],
   "source": [
    "w = clf.coef_[0]\n",
    "a = -w[0]/w[1]"
   ]
  },
  {
   "cell_type": "code",
   "execution_count": 4,
   "metadata": {},
   "outputs": [],
   "source": [
    "x = np.linspace(-1, 3)\n",
    "y = a*x - clf.intercept_[0]/w[1]\n",
    "\n",
    "sv = clf.support_vectors_[0]\n",
    "y_1 = a*x +(sv[1]-a*sv[0])\n",
    "\n",
    "sv = clf.support_vectors_[-1]\n",
    "y_2 = a*x +(sv[1]-a*sv[0])"
   ]
  },
  {
   "cell_type": "code",
   "execution_count": 5,
   "metadata": {},
   "outputs": [
    {
     "data": {
      "text/plain": [
       "<matplotlib.collections.PathCollection at 0x132fd6f10>"
      ]
     },
     "execution_count": 5,
     "metadata": {},
     "output_type": "execute_result"
    },
    {
     "data": {
      "image/png": "[encoded data removed]",
      "text/plain": [
       "<Figure size 432x288 with 1 Axes>"
      ]
     },
     "metadata": {
      "needs_background": "light"
     },
     "output_type": "display_data"
    }
   ],
   "source": [
    "plt.plot(x, y, 'k-')\n",
    "plt.plot(x, y_1, 'k--')\n",
    "plt.plot(x, y_2, 'k--')\n",
    "plt.scatter(clf.support_vectors_[:, 0],\n",
    "            clf.support_vectors_[:, 1],\n",
    "            color='black')\n",
    "plt.scatter([-1, 0, 0, 0],\n",
    "            [3, 2, 1, 0],\n",
    "            color='red')\n",
    "plt.scatter([1, 1, 3],\n",
    "            [5, 6, 3],\n",
    "            color='blue')"
   ]
  },
  {
   "attachments": {},
   "cell_type": "markdown",
   "metadata": {},
   "source": [
    "### Task b"
   ]
  },
  {
   "cell_type": "code",
   "execution_count": 6,
   "metadata": {},
   "outputs": [
    {
     "name": "stdout",
     "output_type": "stream",
     "text": [
      "w is:  [-0.49984 -0.49984]\n",
      "b is:  3.999786598378149\n"
     ]
    }
   ],
   "source": [
    "print(\"w is: \", w)\n",
    "print(\"b is: \", -clf.intercept_[0]/w[1])"
   ]
  },
  {
   "attachments": {},
   "cell_type": "markdown",
   "metadata": {},
   "source": [
    "### Task c"
   ]
  },
  {
   "cell_type": "code",
   "execution_count": 7,
   "metadata": {},
   "outputs": [],
   "source": [
    "X = [[-1,3], [0,2], [0,1], [0,0], \n",
    "     [-2,0], [-2,1], [-2,3], [-1,0], [-1,1], [0,0],\n",
    "     [1,5], [1,6], [3,3]]\n",
    "Y = [1, 1, 1, 1, \n",
    "     1, 1, 1, 1, 1, 1,\n",
    "     0, 0, 0]"
   ]
  },
  {
   "cell_type": "code",
   "execution_count": 8,
   "metadata": {},
   "outputs": [
    {
     "name": "stdout",
     "output_type": "stream",
     "text": [
      "Coefficient:  [[-0.49984 -0.49984]]\n",
      "Intercept:  [1.99925333]\n",
      "Support Vectors:  [[1. 5.]\n",
      " [3. 3.]\n",
      " [0. 2.]]\n"
     ]
    }
   ],
   "source": [
    "clf = SVC(kernel = 'linear')\n",
    "clf.fit(X, Y)\n",
    "print(\"Coefficient: \", clf.coef_)\n",
    "print(\"Intercept: \", clf.intercept_)\n",
    "print(\"Support Vectors: \", clf.support_vectors_)"
   ]
  },
  {
   "cell_type": "code",
   "execution_count": 9,
   "metadata": {},
   "outputs": [],
   "source": [
    "w = clf.coef_[0]\n",
    "a = -w[0]/w[1]"
   ]
  },
  {
   "cell_type": "code",
   "execution_count": 10,
   "metadata": {},
   "outputs": [],
   "source": [
    "x = np.linspace(-2, 3)\n",
    "y = a*x - clf.intercept_[0]/w[1]\n",
    "\n",
    "sv = clf.support_vectors_[0]\n",
    "y_1 = a*x +(sv[1]-a*sv[0])\n",
    "\n",
    "sv = clf.support_vectors_[-1]\n",
    "y_2 = a*x +(sv[1]-a*sv[0])"
   ]
  },
  {
   "cell_type": "code",
   "execution_count": 11,
   "metadata": {},
   "outputs": [
    {
     "data": {
      "text/plain": [
       "<matplotlib.collections.PathCollection at 0x133101d00>"
      ]
     },
     "execution_count": 11,
     "metadata": {},
     "output_type": "execute_result"
    },
    {
     "data": {
      "image/png": "[encoded data removed]",
      "text/plain": [
       "<Figure size 432x288 with 1 Axes>"
      ]
     },
     "metadata": {
      "needs_background": "light"
     },
     "output_type": "display_data"
    }
   ],
   "source": [
    "plt.plot(x, y, 'k-')\n",
    "plt.plot(x, y_1, 'k--')\n",
    "plt.plot(x, y_2, 'k--')\n",
    "plt.scatter(clf.support_vectors_[:, 0],\n",
    "            clf.support_vectors_[:, 1],\n",
    "            color='black')\n",
    "plt.scatter([-1, 0, 0, 0, -2, -2, -2, -1, -1, 0],\n",
    "            [3, 2, 1, 0, 0, 1, 3, 0, 1, 0],\n",
    "            color='red')\n",
    "plt.scatter([1, 1, 3],\n",
    "            [5, 6, 3],\n",
    "            color='blue')"
   ]
  },
  {
   "cell_type": "code",
   "execution_count": 12,
   "metadata": {},
   "outputs": [
    {
     "name": "stdout",
     "output_type": "stream",
     "text": [
      "w is:  [-0.49984 -0.49984]\n",
      "b is:  3.999786598378149\n"
     ]
    }
   ],
   "source": [
    "print(\"w is: \", w)\n",
    "print(\"b is: \", -clf.intercept_[0]/w[1])"
   ]
  }
 ],
 "metadata": {
  "kernelspec": {
   "display_name": "Python 3",
   "language": "python",
   "name": "python3"
  },
  "language_info": {
   "codemirror_mode": {
    "name": "ipython",
    "version": 3
   },
   "file_extension": ".py",
   "mimetype": "text/x-python",
   "name": "python",
   "nbconvert_exporter": "python",
   "pygments_lexer": "ipython3",
   "version": "3.9.0"
  },
  "orig_nbformat": 4,
  "vscode": {
   "interpreter": {
    "hash": "3d886cc7f8927f8a701dbee423ec2316d2768a782d143ee66ef80303260b3d59"
   }
  }
 },
 "nbformat": 4,
 "nbformat_minor": 2
}
